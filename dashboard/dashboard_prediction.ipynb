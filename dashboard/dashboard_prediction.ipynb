{
 "cells": [
  {
   "cell_type": "code",
   "execution_count": 1,
   "id": "183bd6e1",
   "metadata": {},
   "outputs": [],
   "source": [
    "# Import dependencies\n",
    "import pandas as pd\n",
    "import pickle\n",
    "from werkzeug.datastructures import ImmutableMultiDict"
   ]
  },
  {
   "cell_type": "code",
   "execution_count": 2,
   "id": "6da114f3",
   "metadata": {},
   "outputs": [],
   "source": [
    "# Sample result from input data\n",
    "form_data = ImmutableMultiDict([('title', 'Awesome'), ('description', 'This is the best movie ever!'), ('rating', 'PG-13'), ('runtime', '90'), ('genres', 'Action & Adventure'), ('genres', 'Comedy'), ('genres', 'Drama'), ('genres', 'Mystery & Suspense')])"
   ]
  },
  {
   "cell_type": "code",
   "execution_count": 3,
   "id": "4f8ae325",
   "metadata": {},
   "outputs": [
    {
     "data": {
      "text/plain": [
       "[('title', ['Awesome']),\n",
       " ('description', ['This is the best movie ever!']),\n",
       " ('rating', ['PG-13']),\n",
       " ('runtime', ['90']),\n",
       " ('genres', ['Action & Adventure', 'Comedy', 'Drama', 'Mystery & Suspense'])]"
      ]
     },
     "execution_count": 3,
     "metadata": {},
     "output_type": "execute_result"
    }
   ],
   "source": [
    "# Convert ImmutableMultiDict to list of lists\n",
    "data_list = list(form_data.lists())\n",
    "data_list"
   ]
  },
  {
   "cell_type": "code",
   "execution_count": 4,
   "id": "5a6a0f31",
   "metadata": {},
   "outputs": [
    {
     "data": {
      "text/plain": [
       "'Awesome'"
      ]
     },
     "execution_count": 4,
     "metadata": {},
     "output_type": "execute_result"
    }
   ],
   "source": [
    "# Get info for title\n",
    "title = data_list[0][1][0]\n",
    "title"
   ]
  },
  {
   "cell_type": "code",
   "execution_count": 5,
   "id": "a6aecdbd",
   "metadata": {},
   "outputs": [
    {
     "data": {
      "text/plain": [
       "'This is the best movie ever!'"
      ]
     },
     "execution_count": 5,
     "metadata": {},
     "output_type": "execute_result"
    }
   ],
   "source": [
    "# Get info for description\n",
    "description = data_list[1][1][0]\n",
    "description"
   ]
  },
  {
   "cell_type": "code",
   "execution_count": 6,
   "id": "ef0b038d",
   "metadata": {},
   "outputs": [
    {
     "data": {
      "text/plain": [
       "'PG-13'"
      ]
     },
     "execution_count": 6,
     "metadata": {},
     "output_type": "execute_result"
    }
   ],
   "source": [
    "# Get info for content rating\n",
    "content_rating = data_list[2][1][0]\n",
    "content_rating"
   ]
  },
  {
   "cell_type": "code",
   "execution_count": 7,
   "id": "68db01ca",
   "metadata": {},
   "outputs": [
    {
     "data": {
      "text/plain": [
       "90"
      ]
     },
     "execution_count": 7,
     "metadata": {},
     "output_type": "execute_result"
    }
   ],
   "source": [
    "# Get info for runtime and convert to number\n",
    "runtime = pd.to_numeric(data_list[3][1][0])\n",
    "runtime"
   ]
  },
  {
   "cell_type": "code",
   "execution_count": 8,
   "id": "d8e3c0e5",
   "metadata": {},
   "outputs": [
    {
     "data": {
      "text/plain": [
       "['Action & Adventure', 'Comedy', 'Drama', 'Mystery & Suspense']"
      ]
     },
     "execution_count": 8,
     "metadata": {},
     "output_type": "execute_result"
    }
   ],
   "source": [
    "# Get info for genres\n",
    "genres = data_list[4][1]\n",
    "genres"
   ]
  },
  {
   "cell_type": "code",
   "execution_count": 9,
   "id": "3837ba53",
   "metadata": {},
   "outputs": [],
   "source": [
    "# Create dictionary to add preprocessed input data\n",
    "input_data = {}\n",
    "\n",
    "# Add numeric features\n",
    "input_data[\"runtime\"] = runtime\n",
    "input_data[\"total_genres\"] = len(genres)\n",
    "input_data[\"title_word_count\"] = len(title.split())\n",
    "input_data[\"title_char_count\"] = len(title)\n",
    "input_data[\"info_word_count\"] = len(description.split())\n",
    "input_data[\"info_char_count\"] = len(description)"
   ]
  },
  {
   "cell_type": "code",
   "execution_count": 10,
   "id": "9c57db9e",
   "metadata": {},
   "outputs": [],
   "source": [
    "# Add genre features\n",
    "genres_list = ['Drama', 'Comedy', 'Action & Adventure',\n",
    "       'Mystery & Suspense', 'Art House & International', 'Romance', 'Horror',\n",
    "       'Science Fiction & Fantasy', 'Classics', 'Kids & Family', 'Documentary',\n",
    "       'Musical & Performing Arts', 'Special Interest', 'Animation', 'Western',\n",
    "       'Television', 'Sports & Fitness', 'Cult Movies', 'Gay & Lesbian',\n",
    "       'Faith & Spirituality', 'Anime & Manga']\n",
    "\n",
    "for genre in genres_list:\n",
    "    if genre in genres:\n",
    "        input_data[genre] = 1\n",
    "    else:\n",
    "        input_data[genre] = 0"
   ]
  },
  {
   "cell_type": "code",
   "execution_count": 11,
   "id": "c6013239",
   "metadata": {},
   "outputs": [],
   "source": [
    "# Add content rating features\n",
    "rating_list = ['content_rating_G', 'content_rating_NC17',\n",
    "       'content_rating_NR', 'content_rating_PG', 'content_rating_PG-13',\n",
    "       'content_rating_R']\n",
    "\n",
    "for rating in rating_list:\n",
    "    if rating.split('_')[2] == content_rating:\n",
    "        input_data[rating] = 1\n",
    "    else:\n",
    "        input_data[rating] = 0"
   ]
  },
  {
   "cell_type": "code",
   "execution_count": 12,
   "id": "8d08aa3f",
   "metadata": {},
   "outputs": [
    {
     "data": {
      "text/html": [
       "<div>\n",
       "<style scoped>\n",
       "    .dataframe tbody tr th:only-of-type {\n",
       "        vertical-align: middle;\n",
       "    }\n",
       "\n",
       "    .dataframe tbody tr th {\n",
       "        vertical-align: top;\n",
       "    }\n",
       "\n",
       "    .dataframe thead th {\n",
       "        text-align: right;\n",
       "    }\n",
       "</style>\n",
       "<table border=\"1\" class=\"dataframe\">\n",
       "  <thead>\n",
       "    <tr style=\"text-align: right;\">\n",
       "      <th></th>\n",
       "      <th>runtime</th>\n",
       "      <th>total_genres</th>\n",
       "      <th>title_word_count</th>\n",
       "      <th>title_char_count</th>\n",
       "      <th>info_word_count</th>\n",
       "      <th>info_char_count</th>\n",
       "      <th>Drama</th>\n",
       "      <th>Comedy</th>\n",
       "      <th>Action &amp; Adventure</th>\n",
       "      <th>Mystery &amp; Suspense</th>\n",
       "      <th>...</th>\n",
       "      <th>Cult Movies</th>\n",
       "      <th>Gay &amp; Lesbian</th>\n",
       "      <th>Faith &amp; Spirituality</th>\n",
       "      <th>Anime &amp; Manga</th>\n",
       "      <th>content_rating_G</th>\n",
       "      <th>content_rating_NC17</th>\n",
       "      <th>content_rating_NR</th>\n",
       "      <th>content_rating_PG</th>\n",
       "      <th>content_rating_PG-13</th>\n",
       "      <th>content_rating_R</th>\n",
       "    </tr>\n",
       "  </thead>\n",
       "  <tbody>\n",
       "    <tr>\n",
       "      <th>0</th>\n",
       "      <td>90</td>\n",
       "      <td>4</td>\n",
       "      <td>1</td>\n",
       "      <td>7</td>\n",
       "      <td>6</td>\n",
       "      <td>28</td>\n",
       "      <td>1</td>\n",
       "      <td>1</td>\n",
       "      <td>1</td>\n",
       "      <td>1</td>\n",
       "      <td>...</td>\n",
       "      <td>0</td>\n",
       "      <td>0</td>\n",
       "      <td>0</td>\n",
       "      <td>0</td>\n",
       "      <td>0</td>\n",
       "      <td>0</td>\n",
       "      <td>0</td>\n",
       "      <td>0</td>\n",
       "      <td>1</td>\n",
       "      <td>0</td>\n",
       "    </tr>\n",
       "  </tbody>\n",
       "</table>\n",
       "<p>1 rows × 33 columns</p>\n",
       "</div>"
      ],
      "text/plain": [
       "   runtime  total_genres  title_word_count  title_char_count  info_word_count  \\\n",
       "0       90             4                 1                 7                6   \n",
       "\n",
       "   info_char_count  Drama  Comedy  Action & Adventure  Mystery & Suspense  \\\n",
       "0               28      1       1                   1                   1   \n",
       "\n",
       "   ...  Cult Movies  Gay & Lesbian  Faith & Spirituality  Anime & Manga  \\\n",
       "0  ...            0              0                     0              0   \n",
       "\n",
       "   content_rating_G  content_rating_NC17  content_rating_NR  \\\n",
       "0                 0                    0                  0   \n",
       "\n",
       "   content_rating_PG  content_rating_PG-13  content_rating_R  \n",
       "0                  0                     1                 0  \n",
       "\n",
       "[1 rows x 33 columns]"
      ]
     },
     "execution_count": 12,
     "metadata": {},
     "output_type": "execute_result"
    }
   ],
   "source": [
    "# Convert dictionary to DataFrame\n",
    "input_data_df = pd.DataFrame(input_data, index=[0])\n",
    "input_data_df"
   ]
  },
  {
   "cell_type": "code",
   "execution_count": 13,
   "id": "fd65ef8a",
   "metadata": {},
   "outputs": [
    {
     "data": {
      "text/html": [
       "<div>\n",
       "<style scoped>\n",
       "    .dataframe tbody tr th:only-of-type {\n",
       "        vertical-align: middle;\n",
       "    }\n",
       "\n",
       "    .dataframe tbody tr th {\n",
       "        vertical-align: top;\n",
       "    }\n",
       "\n",
       "    .dataframe thead th {\n",
       "        text-align: right;\n",
       "    }\n",
       "</style>\n",
       "<table border=\"1\" class=\"dataframe\">\n",
       "  <thead>\n",
       "    <tr style=\"text-align: right;\">\n",
       "      <th></th>\n",
       "      <th>runtime</th>\n",
       "      <th>content_rating_G</th>\n",
       "      <th>content_rating_NC17</th>\n",
       "      <th>content_rating_NR</th>\n",
       "      <th>content_rating_PG</th>\n",
       "      <th>content_rating_PG-13</th>\n",
       "      <th>content_rating_R</th>\n",
       "      <th>Drama</th>\n",
       "      <th>Comedy</th>\n",
       "      <th>Action &amp; Adventure</th>\n",
       "      <th>...</th>\n",
       "      <th>Sports &amp; Fitness</th>\n",
       "      <th>Cult Movies</th>\n",
       "      <th>Gay &amp; Lesbian</th>\n",
       "      <th>Faith &amp; Spirituality</th>\n",
       "      <th>Anime &amp; Manga</th>\n",
       "      <th>total_genres</th>\n",
       "      <th>title_word_count</th>\n",
       "      <th>title_char_count</th>\n",
       "      <th>info_word_count</th>\n",
       "      <th>info_char_count</th>\n",
       "    </tr>\n",
       "  </thead>\n",
       "  <tbody>\n",
       "    <tr>\n",
       "      <th>0</th>\n",
       "      <td>90</td>\n",
       "      <td>0</td>\n",
       "      <td>0</td>\n",
       "      <td>0</td>\n",
       "      <td>0</td>\n",
       "      <td>1</td>\n",
       "      <td>0</td>\n",
       "      <td>1</td>\n",
       "      <td>1</td>\n",
       "      <td>1</td>\n",
       "      <td>...</td>\n",
       "      <td>0</td>\n",
       "      <td>0</td>\n",
       "      <td>0</td>\n",
       "      <td>0</td>\n",
       "      <td>0</td>\n",
       "      <td>4</td>\n",
       "      <td>1</td>\n",
       "      <td>7</td>\n",
       "      <td>6</td>\n",
       "      <td>28</td>\n",
       "    </tr>\n",
       "  </tbody>\n",
       "</table>\n",
       "<p>1 rows × 33 columns</p>\n",
       "</div>"
      ],
      "text/plain": [
       "   runtime  content_rating_G  content_rating_NC17  content_rating_NR  \\\n",
       "0       90                 0                    0                  0   \n",
       "\n",
       "   content_rating_PG  content_rating_PG-13  content_rating_R  Drama  Comedy  \\\n",
       "0                  0                     1                 0      1       1   \n",
       "\n",
       "   Action & Adventure  ...  Sports & Fitness  Cult Movies  Gay & Lesbian  \\\n",
       "0                   1  ...                 0            0              0   \n",
       "\n",
       "   Faith & Spirituality  Anime & Manga  total_genres  title_word_count  \\\n",
       "0                     0              0             4                 1   \n",
       "\n",
       "   title_char_count  info_word_count  info_char_count  \n",
       "0                 7                6               28  \n",
       "\n",
       "[1 rows x 33 columns]"
      ]
     },
     "execution_count": 13,
     "metadata": {},
     "output_type": "execute_result"
    }
   ],
   "source": [
    "# Reorder columns to match ML model data\n",
    "columns=['runtime', 'content_rating_G', 'content_rating_NC17',\n",
    "       'content_rating_NR', 'content_rating_PG', 'content_rating_PG-13',\n",
    "       'content_rating_R', 'Drama', 'Comedy', 'Action & Adventure',\n",
    "       'Mystery & Suspense', 'Art House & International', 'Romance', 'Horror',\n",
    "       'Science Fiction & Fantasy', 'Classics', 'Kids & Family', 'Documentary',\n",
    "       'Musical & Performing Arts', 'Special Interest', 'Animation', 'Western',\n",
    "       'Television', 'Sports & Fitness', 'Cult Movies', 'Gay & Lesbian',\n",
    "       'Faith & Spirituality', 'Anime & Manga', 'total_genres',\n",
    "       'title_word_count', 'title_char_count', 'info_word_count',\n",
    "       'info_char_count']\n",
    "\n",
    "input_data_df = input_data_df[columns]\n",
    "input_data_df"
   ]
  },
  {
   "cell_type": "code",
   "execution_count": 14,
   "id": "3cbc8d88",
   "metadata": {},
   "outputs": [
    {
     "data": {
      "text/plain": [
       "'Rotten'"
      ]
     },
     "execution_count": 14,
     "metadata": {},
     "output_type": "execute_result"
    }
   ],
   "source": [
    "# Load the saved model\n",
    "loaded_model = pickle.load(open(\"finalized_model.pkl\", 'rb'))\n",
    "\n",
    "# Make predition from input data\n",
    "prediction = loaded_model.predict(input_data_df)[0]\n",
    "prediction"
   ]
  },
  {
   "cell_type": "code",
   "execution_count": null,
   "id": "44d95647",
   "metadata": {},
   "outputs": [],
   "source": []
  }
 ],
 "metadata": {
  "kernelspec": {
   "display_name": "mlenv",
   "language": "python",
   "name": "mlenv"
  },
  "language_info": {
   "codemirror_mode": {
    "name": "ipython",
    "version": 3
   },
   "file_extension": ".py",
   "mimetype": "text/x-python",
   "name": "python",
   "nbconvert_exporter": "python",
   "pygments_lexer": "ipython3",
   "version": "3.7.11"
  }
 },
 "nbformat": 4,
 "nbformat_minor": 5
}
