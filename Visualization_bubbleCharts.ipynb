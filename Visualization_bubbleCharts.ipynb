{
 "cells": [
  {
   "cell_type": "code",
   "execution_count": 2,
   "metadata": {},
   "outputs": [],
   "source": [
    "import pandas as pd\n",
    "import matplotlib\n",
    "import matplotlib.pyplot as plt\n",
    "import numpy as np\n",
    "import plotly.express as px\n"
   ]
  },
  {
   "cell_type": "code",
   "execution_count": 3,
   "metadata": {},
   "outputs": [
    {
     "data": {
      "text/html": [
       "<div>\n",
       "<style scoped>\n",
       "    .dataframe tbody tr th:only-of-type {\n",
       "        vertical-align: middle;\n",
       "    }\n",
       "\n",
       "    .dataframe tbody tr th {\n",
       "        vertical-align: top;\n",
       "    }\n",
       "\n",
       "    .dataframe thead th {\n",
       "        text-align: right;\n",
       "    }\n",
       "</style>\n",
       "<table border=\"1\" class=\"dataframe\">\n",
       "  <thead>\n",
       "    <tr style=\"text-align: right;\">\n",
       "      <th></th>\n",
       "      <th>rotten_tomatoes_link</th>\n",
       "      <th>movie_title</th>\n",
       "      <th>movie_info</th>\n",
       "      <th>content_rating</th>\n",
       "      <th>genres</th>\n",
       "      <th>directors</th>\n",
       "      <th>authors</th>\n",
       "      <th>actors</th>\n",
       "      <th>runtime</th>\n",
       "      <th>production_company</th>\n",
       "      <th>...</th>\n",
       "      <th>streaming_month</th>\n",
       "      <th>tomatometer_status</th>\n",
       "      <th>tomatometer_rating</th>\n",
       "      <th>tomatometer_count</th>\n",
       "      <th>audience_status</th>\n",
       "      <th>audience_rating</th>\n",
       "      <th>audience_count</th>\n",
       "      <th>tomatometer_top_critics_count</th>\n",
       "      <th>tomatometer_fresh_critics_count</th>\n",
       "      <th>tomatometer_rotten_critics_count</th>\n",
       "    </tr>\n",
       "  </thead>\n",
       "  <tbody>\n",
       "    <tr>\n",
       "      <th>0</th>\n",
       "      <td>m/0814255</td>\n",
       "      <td>Percy Jackson &amp; the Olympians: The Lightning T...</td>\n",
       "      <td>Always trouble-prone, the life of teenager Per...</td>\n",
       "      <td>PG</td>\n",
       "      <td>Action &amp; Adventure, Comedy, Drama, Science Fic...</td>\n",
       "      <td>Chris Columbus</td>\n",
       "      <td>Craig Titley, Chris Columbus, Rick Riordan</td>\n",
       "      <td>Logan Lerman, Brandon T. Jackson, Alexandra Da...</td>\n",
       "      <td>119</td>\n",
       "      <td>20th Century Fox</td>\n",
       "      <td>...</td>\n",
       "      <td>11</td>\n",
       "      <td>Rotten</td>\n",
       "      <td>49</td>\n",
       "      <td>149</td>\n",
       "      <td>Spilled</td>\n",
       "      <td>53</td>\n",
       "      <td>254421</td>\n",
       "      <td>43</td>\n",
       "      <td>73</td>\n",
       "      <td>76</td>\n",
       "    </tr>\n",
       "    <tr>\n",
       "      <th>1</th>\n",
       "      <td>m/0878835</td>\n",
       "      <td>Please Give</td>\n",
       "      <td>Kate (Catherine Keener) and her husband Alex (...</td>\n",
       "      <td>R</td>\n",
       "      <td>Comedy</td>\n",
       "      <td>Nicole Holofcener</td>\n",
       "      <td>Nicole Holofcener</td>\n",
       "      <td>Catherine Keener, Amanda Peet, Oliver Platt, R...</td>\n",
       "      <td>90</td>\n",
       "      <td>Sony Pictures Classics</td>\n",
       "      <td>...</td>\n",
       "      <td>9</td>\n",
       "      <td>Fresh</td>\n",
       "      <td>87</td>\n",
       "      <td>142</td>\n",
       "      <td>Upright</td>\n",
       "      <td>64</td>\n",
       "      <td>11574</td>\n",
       "      <td>44</td>\n",
       "      <td>123</td>\n",
       "      <td>19</td>\n",
       "    </tr>\n",
       "    <tr>\n",
       "      <th>2</th>\n",
       "      <td>m/10</td>\n",
       "      <td>10</td>\n",
       "      <td>A successful, middle-aged Hollywood songwriter...</td>\n",
       "      <td>R</td>\n",
       "      <td>Comedy, Romance</td>\n",
       "      <td>Blake Edwards</td>\n",
       "      <td>Blake Edwards</td>\n",
       "      <td>Dudley Moore, Bo Derek, Julie Andrews, Robert ...</td>\n",
       "      <td>122</td>\n",
       "      <td>Waner Bros.</td>\n",
       "      <td>...</td>\n",
       "      <td>7</td>\n",
       "      <td>Fresh</td>\n",
       "      <td>67</td>\n",
       "      <td>24</td>\n",
       "      <td>Spilled</td>\n",
       "      <td>53</td>\n",
       "      <td>14684</td>\n",
       "      <td>2</td>\n",
       "      <td>16</td>\n",
       "      <td>8</td>\n",
       "    </tr>\n",
       "    <tr>\n",
       "      <th>3</th>\n",
       "      <td>m/1000013-12_angry_men</td>\n",
       "      <td>12 Angry Men (Twelve Angry Men)</td>\n",
       "      <td>Following the closing arguments in a murder tr...</td>\n",
       "      <td>NR</td>\n",
       "      <td>Classics, Drama</td>\n",
       "      <td>Sidney Lumet</td>\n",
       "      <td>Reginald Rose</td>\n",
       "      <td>Martin Balsam, John Fiedler, Lee J. Cobb, E.G....</td>\n",
       "      <td>95</td>\n",
       "      <td>Criterion Collection</td>\n",
       "      <td>...</td>\n",
       "      <td>1</td>\n",
       "      <td>Fresh</td>\n",
       "      <td>100</td>\n",
       "      <td>54</td>\n",
       "      <td>Upright</td>\n",
       "      <td>97</td>\n",
       "      <td>105386</td>\n",
       "      <td>6</td>\n",
       "      <td>54</td>\n",
       "      <td>0</td>\n",
       "    </tr>\n",
       "    <tr>\n",
       "      <th>4</th>\n",
       "      <td>m/1000079-20000_leagues_under_the_sea</td>\n",
       "      <td>20,000 Leagues Under The Sea</td>\n",
       "      <td>In 1866, Professor Pierre M. Aronnax (Paul Luk...</td>\n",
       "      <td>G</td>\n",
       "      <td>Action &amp; Adventure, Drama, Kids &amp; Family</td>\n",
       "      <td>Richard Fleischer</td>\n",
       "      <td>Earl Felton</td>\n",
       "      <td>James Mason, Kirk Douglas, Paul Lukas, Peter L...</td>\n",
       "      <td>127</td>\n",
       "      <td>Disney</td>\n",
       "      <td>...</td>\n",
       "      <td>6</td>\n",
       "      <td>Fresh</td>\n",
       "      <td>89</td>\n",
       "      <td>27</td>\n",
       "      <td>Upright</td>\n",
       "      <td>74</td>\n",
       "      <td>68918</td>\n",
       "      <td>5</td>\n",
       "      <td>24</td>\n",
       "      <td>3</td>\n",
       "    </tr>\n",
       "    <tr>\n",
       "      <th>...</th>\n",
       "      <td>...</td>\n",
       "      <td>...</td>\n",
       "      <td>...</td>\n",
       "      <td>...</td>\n",
       "      <td>...</td>\n",
       "      <td>...</td>\n",
       "      <td>...</td>\n",
       "      <td>...</td>\n",
       "      <td>...</td>\n",
       "      <td>...</td>\n",
       "      <td>...</td>\n",
       "      <td>...</td>\n",
       "      <td>...</td>\n",
       "      <td>...</td>\n",
       "      <td>...</td>\n",
       "      <td>...</td>\n",
       "      <td>...</td>\n",
       "      <td>...</td>\n",
       "      <td>...</td>\n",
       "      <td>...</td>\n",
       "      <td>...</td>\n",
       "    </tr>\n",
       "    <tr>\n",
       "      <th>14432</th>\n",
       "      <td>m/zoom_2006</td>\n",
       "      <td>Zoom</td>\n",
       "      <td>Capt. Zoom, or Jack (Tim Allen), as he is now ...</td>\n",
       "      <td>PG</td>\n",
       "      <td>Action &amp; Adventure, Comedy, Kids &amp; Family</td>\n",
       "      <td>Peter Hewitt</td>\n",
       "      <td>Adam Rifkin, David Berenbaum</td>\n",
       "      <td>Tim Allen, Courteney Cox, Chevy Chase, Spencer...</td>\n",
       "      <td>88</td>\n",
       "      <td>Sony Pictures Entertainment</td>\n",
       "      <td>...</td>\n",
       "      <td>4</td>\n",
       "      <td>Rotten</td>\n",
       "      <td>4</td>\n",
       "      <td>68</td>\n",
       "      <td>Spilled</td>\n",
       "      <td>33</td>\n",
       "      <td>11369</td>\n",
       "      <td>19</td>\n",
       "      <td>3</td>\n",
       "      <td>65</td>\n",
       "    </tr>\n",
       "    <tr>\n",
       "      <th>14433</th>\n",
       "      <td>m/zoot_suit</td>\n",
       "      <td>Zoot Suit</td>\n",
       "      <td>Mexican-American gangster Henry Reyna (Daniel ...</td>\n",
       "      <td>R</td>\n",
       "      <td>Drama, Musical &amp; Performing Arts</td>\n",
       "      <td>Luis Valdez</td>\n",
       "      <td>Luis Valdez</td>\n",
       "      <td>Daniel Valdez, Edward James Olmos, Charles Aid...</td>\n",
       "      <td>104</td>\n",
       "      <td>MCA Universal Home Video</td>\n",
       "      <td>...</td>\n",
       "      <td>4</td>\n",
       "      <td>Rotten</td>\n",
       "      <td>56</td>\n",
       "      <td>9</td>\n",
       "      <td>Upright</td>\n",
       "      <td>74</td>\n",
       "      <td>1195</td>\n",
       "      <td>2</td>\n",
       "      <td>5</td>\n",
       "      <td>4</td>\n",
       "    </tr>\n",
       "    <tr>\n",
       "      <th>14434</th>\n",
       "      <td>m/zootopia</td>\n",
       "      <td>Zootopia</td>\n",
       "      <td>From the largest elephant to the smallest shre...</td>\n",
       "      <td>PG</td>\n",
       "      <td>Action &amp; Adventure, Animation, Comedy</td>\n",
       "      <td>Byron Howard, Rich Moore, Jared Bush</td>\n",
       "      <td>Jared Bush, Phil Johnston</td>\n",
       "      <td>J.K. Simmons, Kristen Bell, Octavia Spencer, A...</td>\n",
       "      <td>108</td>\n",
       "      <td>Walt Disney Animation Studios</td>\n",
       "      <td>...</td>\n",
       "      <td>6</td>\n",
       "      <td>Fresh</td>\n",
       "      <td>98</td>\n",
       "      <td>291</td>\n",
       "      <td>Upright</td>\n",
       "      <td>92</td>\n",
       "      <td>101511</td>\n",
       "      <td>50</td>\n",
       "      <td>285</td>\n",
       "      <td>7</td>\n",
       "    </tr>\n",
       "    <tr>\n",
       "      <th>14435</th>\n",
       "      <td>m/zulu</td>\n",
       "      <td>Zulu</td>\n",
       "      <td>In 1879, the Zulu nation hands colonial Britis...</td>\n",
       "      <td>PG</td>\n",
       "      <td>Classics, Drama</td>\n",
       "      <td>Cy Endfield, Cyril Endfield</td>\n",
       "      <td>Cy Endfield, John Prebble</td>\n",
       "      <td>Stanley Baker, Jack Hawkins, Ulla Jacobsson, J...</td>\n",
       "      <td>135</td>\n",
       "      <td>Paramount Pictures</td>\n",
       "      <td>...</td>\n",
       "      <td>1</td>\n",
       "      <td>Fresh</td>\n",
       "      <td>96</td>\n",
       "      <td>23</td>\n",
       "      <td>Upright</td>\n",
       "      <td>91</td>\n",
       "      <td>30193</td>\n",
       "      <td>6</td>\n",
       "      <td>22</td>\n",
       "      <td>1</td>\n",
       "    </tr>\n",
       "    <tr>\n",
       "      <th>14436</th>\n",
       "      <td>m/zulu_dawn</td>\n",
       "      <td>Zulu Dawn</td>\n",
       "      <td>Sir Henry Bartle Frere's (John Mills) vastly o...</td>\n",
       "      <td>PG</td>\n",
       "      <td>Action &amp; Adventure, Art House &amp; International,...</td>\n",
       "      <td>Douglas Hickox</td>\n",
       "      <td>Cy Endfield, Anthony Storey</td>\n",
       "      <td>Burt Lancaster, Peter O'Toole, Simon Ward, Joh...</td>\n",
       "      <td>121</td>\n",
       "      <td>Tango Entertainment</td>\n",
       "      <td>...</td>\n",
       "      <td>3</td>\n",
       "      <td>Rotten</td>\n",
       "      <td>50</td>\n",
       "      <td>8</td>\n",
       "      <td>Upright</td>\n",
       "      <td>62</td>\n",
       "      <td>4469</td>\n",
       "      <td>0</td>\n",
       "      <td>4</td>\n",
       "      <td>4</td>\n",
       "    </tr>\n",
       "  </tbody>\n",
       "</table>\n",
       "<p>14437 rows × 21 columns</p>\n",
       "</div>"
      ],
      "text/plain": [
       "                        rotten_tomatoes_link  \\\n",
       "0                                  m/0814255   \n",
       "1                                  m/0878835   \n",
       "2                                       m/10   \n",
       "3                     m/1000013-12_angry_men   \n",
       "4      m/1000079-20000_leagues_under_the_sea   \n",
       "...                                      ...   \n",
       "14432                            m/zoom_2006   \n",
       "14433                            m/zoot_suit   \n",
       "14434                             m/zootopia   \n",
       "14435                                 m/zulu   \n",
       "14436                            m/zulu_dawn   \n",
       "\n",
       "                                             movie_title  \\\n",
       "0      Percy Jackson & the Olympians: The Lightning T...   \n",
       "1                                            Please Give   \n",
       "2                                                     10   \n",
       "3                        12 Angry Men (Twelve Angry Men)   \n",
       "4                           20,000 Leagues Under The Sea   \n",
       "...                                                  ...   \n",
       "14432                                               Zoom   \n",
       "14433                                          Zoot Suit   \n",
       "14434                                           Zootopia   \n",
       "14435                                               Zulu   \n",
       "14436                                          Zulu Dawn   \n",
       "\n",
       "                                              movie_info content_rating  \\\n",
       "0      Always trouble-prone, the life of teenager Per...             PG   \n",
       "1      Kate (Catherine Keener) and her husband Alex (...              R   \n",
       "2      A successful, middle-aged Hollywood songwriter...              R   \n",
       "3      Following the closing arguments in a murder tr...             NR   \n",
       "4      In 1866, Professor Pierre M. Aronnax (Paul Luk...              G   \n",
       "...                                                  ...            ...   \n",
       "14432  Capt. Zoom, or Jack (Tim Allen), as he is now ...             PG   \n",
       "14433  Mexican-American gangster Henry Reyna (Daniel ...              R   \n",
       "14434  From the largest elephant to the smallest shre...             PG   \n",
       "14435  In 1879, the Zulu nation hands colonial Britis...             PG   \n",
       "14436  Sir Henry Bartle Frere's (John Mills) vastly o...             PG   \n",
       "\n",
       "                                                  genres  \\\n",
       "0      Action & Adventure, Comedy, Drama, Science Fic...   \n",
       "1                                                 Comedy   \n",
       "2                                        Comedy, Romance   \n",
       "3                                        Classics, Drama   \n",
       "4               Action & Adventure, Drama, Kids & Family   \n",
       "...                                                  ...   \n",
       "14432          Action & Adventure, Comedy, Kids & Family   \n",
       "14433                   Drama, Musical & Performing Arts   \n",
       "14434              Action & Adventure, Animation, Comedy   \n",
       "14435                                    Classics, Drama   \n",
       "14436  Action & Adventure, Art House & International,...   \n",
       "\n",
       "                                  directors  \\\n",
       "0                            Chris Columbus   \n",
       "1                         Nicole Holofcener   \n",
       "2                             Blake Edwards   \n",
       "3                              Sidney Lumet   \n",
       "4                         Richard Fleischer   \n",
       "...                                     ...   \n",
       "14432                          Peter Hewitt   \n",
       "14433                           Luis Valdez   \n",
       "14434  Byron Howard, Rich Moore, Jared Bush   \n",
       "14435           Cy Endfield, Cyril Endfield   \n",
       "14436                        Douglas Hickox   \n",
       "\n",
       "                                          authors  \\\n",
       "0      Craig Titley, Chris Columbus, Rick Riordan   \n",
       "1                               Nicole Holofcener   \n",
       "2                                   Blake Edwards   \n",
       "3                                   Reginald Rose   \n",
       "4                                     Earl Felton   \n",
       "...                                           ...   \n",
       "14432                Adam Rifkin, David Berenbaum   \n",
       "14433                                 Luis Valdez   \n",
       "14434                   Jared Bush, Phil Johnston   \n",
       "14435                   Cy Endfield, John Prebble   \n",
       "14436                 Cy Endfield, Anthony Storey   \n",
       "\n",
       "                                                  actors  runtime  \\\n",
       "0      Logan Lerman, Brandon T. Jackson, Alexandra Da...      119   \n",
       "1      Catherine Keener, Amanda Peet, Oliver Platt, R...       90   \n",
       "2      Dudley Moore, Bo Derek, Julie Andrews, Robert ...      122   \n",
       "3      Martin Balsam, John Fiedler, Lee J. Cobb, E.G....       95   \n",
       "4      James Mason, Kirk Douglas, Paul Lukas, Peter L...      127   \n",
       "...                                                  ...      ...   \n",
       "14432  Tim Allen, Courteney Cox, Chevy Chase, Spencer...       88   \n",
       "14433  Daniel Valdez, Edward James Olmos, Charles Aid...      104   \n",
       "14434  J.K. Simmons, Kristen Bell, Octavia Spencer, A...      108   \n",
       "14435  Stanley Baker, Jack Hawkins, Ulla Jacobsson, J...      135   \n",
       "14436  Burt Lancaster, Peter O'Toole, Simon Ward, Joh...      121   \n",
       "\n",
       "                  production_company  ...  streaming_month  \\\n",
       "0                   20th Century Fox  ...               11   \n",
       "1             Sony Pictures Classics  ...                9   \n",
       "2                        Waner Bros.  ...                7   \n",
       "3               Criterion Collection  ...                1   \n",
       "4                             Disney  ...                6   \n",
       "...                              ...  ...              ...   \n",
       "14432    Sony Pictures Entertainment  ...                4   \n",
       "14433       MCA Universal Home Video  ...                4   \n",
       "14434  Walt Disney Animation Studios  ...                6   \n",
       "14435             Paramount Pictures  ...                1   \n",
       "14436            Tango Entertainment  ...                3   \n",
       "\n",
       "       tomatometer_status tomatometer_rating  tomatometer_count  \\\n",
       "0                  Rotten                 49                149   \n",
       "1                   Fresh                 87                142   \n",
       "2                   Fresh                 67                 24   \n",
       "3                   Fresh                100                 54   \n",
       "4                   Fresh                 89                 27   \n",
       "...                   ...                ...                ...   \n",
       "14432              Rotten                  4                 68   \n",
       "14433              Rotten                 56                  9   \n",
       "14434               Fresh                 98                291   \n",
       "14435               Fresh                 96                 23   \n",
       "14436              Rotten                 50                  8   \n",
       "\n",
       "       audience_status audience_rating  audience_count  \\\n",
       "0              Spilled              53          254421   \n",
       "1              Upright              64           11574   \n",
       "2              Spilled              53           14684   \n",
       "3              Upright              97          105386   \n",
       "4              Upright              74           68918   \n",
       "...                ...             ...             ...   \n",
       "14432          Spilled              33           11369   \n",
       "14433          Upright              74            1195   \n",
       "14434          Upright              92          101511   \n",
       "14435          Upright              91           30193   \n",
       "14436          Upright              62            4469   \n",
       "\n",
       "       tomatometer_top_critics_count  tomatometer_fresh_critics_count  \\\n",
       "0                                 43                               73   \n",
       "1                                 44                              123   \n",
       "2                                  2                               16   \n",
       "3                                  6                               54   \n",
       "4                                  5                               24   \n",
       "...                              ...                              ...   \n",
       "14432                             19                                3   \n",
       "14433                              2                                5   \n",
       "14434                             50                              285   \n",
       "14435                              6                               22   \n",
       "14436                              0                                4   \n",
       "\n",
       "       tomatometer_rotten_critics_count  \n",
       "0                                    76  \n",
       "1                                    19  \n",
       "2                                     8  \n",
       "3                                     0  \n",
       "4                                     3  \n",
       "...                                 ...  \n",
       "14432                                65  \n",
       "14433                                 4  \n",
       "14434                                 7  \n",
       "14435                                 1  \n",
       "14436                                 4  \n",
       "\n",
       "[14437 rows x 21 columns]"
      ]
     },
     "execution_count": 3,
     "metadata": {},
     "output_type": "execute_result"
    }
   ],
   "source": [
    "moviedf= pd.read_csv(\"full_table_rotten_analysis.csv\")\n",
    "moviedf"
   ]
  },
  {
   "cell_type": "code",
   "execution_count": 102,
   "metadata": {},
   "outputs": [],
   "source": [
    "# moviedf=moviedf.nlargest(10,'production_company')\n",
    "# moviedf"
   ]
  },
  {
   "cell_type": "code",
   "execution_count": 110,
   "metadata": {},
   "outputs": [
    {
     "data": {
      "text/plain": [
       "0    PG\n",
       "1     R\n",
       "2     R\n",
       "3    NR\n",
       "4     G\n",
       "Name: content_rating, dtype: object"
      ]
     },
     "execution_count": 110,
     "metadata": {},
     "output_type": "execute_result"
    }
   ],
   "source": [
    "# moviedf= pd.read_csv(\"full_table_rotten_analysis.csv\")\n",
    "moviedf['content_rating'].head()\n"
   ]
  },
  {
   "cell_type": "code",
   "execution_count": 111,
   "metadata": {},
   "outputs": [
    {
     "data": {
      "text/plain": [
       "0    119\n",
       "1     90\n",
       "2    122\n",
       "3     95\n",
       "4    127\n",
       "5    109\n",
       "6     80\n",
       "7     92\n",
       "8    103\n",
       "9     96\n",
       "Name: runtime, dtype: int64"
      ]
     },
     "execution_count": 111,
     "metadata": {},
     "output_type": "execute_result"
    }
   ],
   "source": [
    "moviedf['runtime'].head(10)"
   ]
  },
  {
   "cell_type": "code",
   "execution_count": 12,
   "metadata": {},
   "outputs": [
    {
     "data": {
      "text/plain": [
       "rotten_tomatoes_link                object\n",
       "movie_title                         object\n",
       "movie_info                          object\n",
       "content_rating                      object\n",
       "genres                              object\n",
       "directors                           object\n",
       "authors                             object\n",
       "actors                              object\n",
       "runtime                              int64\n",
       "production_company                  object\n",
       "release_month                        int64\n",
       "streaming_month                      int64\n",
       "tomatometer_status                  object\n",
       "tomatometer_rating                   int64\n",
       "tomatometer_count                    int64\n",
       "audience_status                     object\n",
       "audience_rating                      int64\n",
       "audience_count                       int64\n",
       "tomatometer_top_critics_count        int64\n",
       "tomatometer_fresh_critics_count      int64\n",
       "tomatometer_rotten_critics_count     int64\n",
       "dtype: object"
      ]
     },
     "execution_count": 12,
     "metadata": {},
     "output_type": "execute_result"
    }
   ],
   "source": [
    "moviedf.dtypes"
   ]
  },
  {
   "cell_type": "code",
   "execution_count": 4,
   "metadata": {},
   "outputs": [
    {
     "data": {
      "text/html": [
       "<div>\n",
       "<style scoped>\n",
       "    .dataframe tbody tr th:only-of-type {\n",
       "        vertical-align: middle;\n",
       "    }\n",
       "\n",
       "    .dataframe tbody tr th {\n",
       "        vertical-align: top;\n",
       "    }\n",
       "\n",
       "    .dataframe thead th {\n",
       "        text-align: right;\n",
       "    }\n",
       "</style>\n",
       "<table border=\"1\" class=\"dataframe\">\n",
       "  <thead>\n",
       "    <tr style=\"text-align: right;\">\n",
       "      <th></th>\n",
       "      <th>rotten_tomatoes_link</th>\n",
       "      <th>movie_title</th>\n",
       "      <th>movie_info</th>\n",
       "      <th>content_rating</th>\n",
       "      <th>genres</th>\n",
       "      <th>directors</th>\n",
       "      <th>authors</th>\n",
       "      <th>actors</th>\n",
       "      <th>runtime</th>\n",
       "      <th>production_company</th>\n",
       "      <th>...</th>\n",
       "      <th>streaming_month</th>\n",
       "      <th>tomatometer_status</th>\n",
       "      <th>tomatometer_rating</th>\n",
       "      <th>tomatometer_count</th>\n",
       "      <th>audience_status</th>\n",
       "      <th>audience_rating</th>\n",
       "      <th>audience_count</th>\n",
       "      <th>tomatometer_top_critics_count</th>\n",
       "      <th>tomatometer_fresh_critics_count</th>\n",
       "      <th>tomatometer_rotten_critics_count</th>\n",
       "    </tr>\n",
       "  </thead>\n",
       "  <tbody>\n",
       "    <tr>\n",
       "      <th>0</th>\n",
       "      <td>m/0814255</td>\n",
       "      <td>Percy Jackson &amp; the Olympians: The Lightning T...</td>\n",
       "      <td>Always trouble-prone, the life of teenager Per...</td>\n",
       "      <td>PG</td>\n",
       "      <td>Action &amp; Adventure, Comedy, Drama, Science Fic...</td>\n",
       "      <td>Chris Columbus</td>\n",
       "      <td>Craig Titley, Chris Columbus, Rick Riordan</td>\n",
       "      <td>Logan Lerman, Brandon T. Jackson, Alexandra Da...</td>\n",
       "      <td>119</td>\n",
       "      <td>20th Century Fox</td>\n",
       "      <td>...</td>\n",
       "      <td>11</td>\n",
       "      <td>Rotten</td>\n",
       "      <td>49</td>\n",
       "      <td>149</td>\n",
       "      <td>Spilled</td>\n",
       "      <td>53</td>\n",
       "      <td>254421</td>\n",
       "      <td>43</td>\n",
       "      <td>73</td>\n",
       "      <td>76</td>\n",
       "    </tr>\n",
       "    <tr>\n",
       "      <th>1</th>\n",
       "      <td>m/0878835</td>\n",
       "      <td>Please Give</td>\n",
       "      <td>Kate (Catherine Keener) and her husband Alex (...</td>\n",
       "      <td>R</td>\n",
       "      <td>Comedy</td>\n",
       "      <td>Nicole Holofcener</td>\n",
       "      <td>Nicole Holofcener</td>\n",
       "      <td>Catherine Keener, Amanda Peet, Oliver Platt, R...</td>\n",
       "      <td>90</td>\n",
       "      <td>Sony Pictures Classics</td>\n",
       "      <td>...</td>\n",
       "      <td>9</td>\n",
       "      <td>Fresh</td>\n",
       "      <td>87</td>\n",
       "      <td>142</td>\n",
       "      <td>Upright</td>\n",
       "      <td>64</td>\n",
       "      <td>11574</td>\n",
       "      <td>44</td>\n",
       "      <td>123</td>\n",
       "      <td>19</td>\n",
       "    </tr>\n",
       "    <tr>\n",
       "      <th>2</th>\n",
       "      <td>m/10</td>\n",
       "      <td>10</td>\n",
       "      <td>A successful, middle-aged Hollywood songwriter...</td>\n",
       "      <td>R</td>\n",
       "      <td>Comedy, Romance</td>\n",
       "      <td>Blake Edwards</td>\n",
       "      <td>Blake Edwards</td>\n",
       "      <td>Dudley Moore, Bo Derek, Julie Andrews, Robert ...</td>\n",
       "      <td>122</td>\n",
       "      <td>Waner Bros.</td>\n",
       "      <td>...</td>\n",
       "      <td>7</td>\n",
       "      <td>Fresh</td>\n",
       "      <td>67</td>\n",
       "      <td>24</td>\n",
       "      <td>Spilled</td>\n",
       "      <td>53</td>\n",
       "      <td>14684</td>\n",
       "      <td>2</td>\n",
       "      <td>16</td>\n",
       "      <td>8</td>\n",
       "    </tr>\n",
       "    <tr>\n",
       "      <th>3</th>\n",
       "      <td>m/1000013-12_angry_men</td>\n",
       "      <td>12 Angry Men (Twelve Angry Men)</td>\n",
       "      <td>Following the closing arguments in a murder tr...</td>\n",
       "      <td>NR</td>\n",
       "      <td>Classics, Drama</td>\n",
       "      <td>Sidney Lumet</td>\n",
       "      <td>Reginald Rose</td>\n",
       "      <td>Martin Balsam, John Fiedler, Lee J. Cobb, E.G....</td>\n",
       "      <td>95</td>\n",
       "      <td>Criterion Collection</td>\n",
       "      <td>...</td>\n",
       "      <td>1</td>\n",
       "      <td>Fresh</td>\n",
       "      <td>100</td>\n",
       "      <td>54</td>\n",
       "      <td>Upright</td>\n",
       "      <td>97</td>\n",
       "      <td>105386</td>\n",
       "      <td>6</td>\n",
       "      <td>54</td>\n",
       "      <td>0</td>\n",
       "    </tr>\n",
       "    <tr>\n",
       "      <th>4</th>\n",
       "      <td>m/1000079-20000_leagues_under_the_sea</td>\n",
       "      <td>20,000 Leagues Under The Sea</td>\n",
       "      <td>In 1866, Professor Pierre M. Aronnax (Paul Luk...</td>\n",
       "      <td>G</td>\n",
       "      <td>Action &amp; Adventure, Drama, Kids &amp; Family</td>\n",
       "      <td>Richard Fleischer</td>\n",
       "      <td>Earl Felton</td>\n",
       "      <td>James Mason, Kirk Douglas, Paul Lukas, Peter L...</td>\n",
       "      <td>127</td>\n",
       "      <td>Disney</td>\n",
       "      <td>...</td>\n",
       "      <td>6</td>\n",
       "      <td>Fresh</td>\n",
       "      <td>89</td>\n",
       "      <td>27</td>\n",
       "      <td>Upright</td>\n",
       "      <td>74</td>\n",
       "      <td>68918</td>\n",
       "      <td>5</td>\n",
       "      <td>24</td>\n",
       "      <td>3</td>\n",
       "    </tr>\n",
       "    <tr>\n",
       "      <th>5</th>\n",
       "      <td>m/10000_bc</td>\n",
       "      <td>10,000 B.C.</td>\n",
       "      <td>Mammoth hunter D'Leh (Steven Strait) has long ...</td>\n",
       "      <td>PG-13</td>\n",
       "      <td>Action &amp; Adventure, Classics, Drama</td>\n",
       "      <td>Roland Emmerich</td>\n",
       "      <td>Harald Kloser, Roland Emmerich</td>\n",
       "      <td>Steven Strait, Camilla Belle, Cliff Curtis, Jo...</td>\n",
       "      <td>109</td>\n",
       "      <td>Warner Bros. Pictures</td>\n",
       "      <td>...</td>\n",
       "      <td>6</td>\n",
       "      <td>Rotten</td>\n",
       "      <td>8</td>\n",
       "      <td>149</td>\n",
       "      <td>Spilled</td>\n",
       "      <td>37</td>\n",
       "      <td>411140</td>\n",
       "      <td>37</td>\n",
       "      <td>12</td>\n",
       "      <td>137</td>\n",
       "    </tr>\n",
       "    <tr>\n",
       "      <th>6</th>\n",
       "      <td>m/1000121-39_steps</td>\n",
       "      <td>The 39 Steps</td>\n",
       "      <td>While on vacation in London, Canadian Richard ...</td>\n",
       "      <td>NR</td>\n",
       "      <td>Action &amp; Adventure, Classics, Mystery &amp; Suspense</td>\n",
       "      <td>Alfred Hitchcock</td>\n",
       "      <td>Alma Reville, Charles Bennett, Ian Hay, Alfred...</td>\n",
       "      <td>Robert Donat, Madeleine Carroll, Godfrey Tearl...</td>\n",
       "      <td>80</td>\n",
       "      <td>Gaumont British Distributors</td>\n",
       "      <td>...</td>\n",
       "      <td>1</td>\n",
       "      <td>Fresh</td>\n",
       "      <td>96</td>\n",
       "      <td>51</td>\n",
       "      <td>Upright</td>\n",
       "      <td>86</td>\n",
       "      <td>23890</td>\n",
       "      <td>8</td>\n",
       "      <td>49</td>\n",
       "      <td>2</td>\n",
       "    </tr>\n",
       "    <tr>\n",
       "      <th>7</th>\n",
       "      <td>m/1000123-310_to_yuma</td>\n",
       "      <td>3:10 to Yuma</td>\n",
       "      <td>Dan Evans (Van Heflin), a drought-plagued Ariz...</td>\n",
       "      <td>NR</td>\n",
       "      <td>Classics, Drama, Western</td>\n",
       "      <td>Delmer Daves</td>\n",
       "      <td>Halsted Welles</td>\n",
       "      <td>Glenn Ford, Van Heflin, Felicia Farr, Leora Da...</td>\n",
       "      <td>92</td>\n",
       "      <td>Columbia Pictures</td>\n",
       "      <td>...</td>\n",
       "      <td>4</td>\n",
       "      <td>Fresh</td>\n",
       "      <td>96</td>\n",
       "      <td>28</td>\n",
       "      <td>Upright</td>\n",
       "      <td>79</td>\n",
       "      <td>9243</td>\n",
       "      <td>6</td>\n",
       "      <td>27</td>\n",
       "      <td>1</td>\n",
       "    </tr>\n",
       "    <tr>\n",
       "      <th>8</th>\n",
       "      <td>m/10002008-charly</td>\n",
       "      <td>Charly (A Heartbeat Away)</td>\n",
       "      <td>Cultural differences, past loves and personal ...</td>\n",
       "      <td>PG</td>\n",
       "      <td>Comedy, Drama, Romance</td>\n",
       "      <td>Adam Thomas Anderegg</td>\n",
       "      <td>Jack Weyland, Janine Whetton Gilbert</td>\n",
       "      <td>Heather Beers, Gary Neilson, Lisa McCammon, Ja...</td>\n",
       "      <td>103</td>\n",
       "      <td>Excel Entertainment</td>\n",
       "      <td>...</td>\n",
       "      <td>5</td>\n",
       "      <td>Rotten</td>\n",
       "      <td>20</td>\n",
       "      <td>10</td>\n",
       "      <td>Upright</td>\n",
       "      <td>87</td>\n",
       "      <td>4819</td>\n",
       "      <td>0</td>\n",
       "      <td>2</td>\n",
       "      <td>8</td>\n",
       "    </tr>\n",
       "    <tr>\n",
       "      <th>9</th>\n",
       "      <td>m/tatsumi_2011</td>\n",
       "      <td>Tatsumi</td>\n",
       "      <td>Yoshihiro Tatsumi works as a comic-book artist...</td>\n",
       "      <td>NR</td>\n",
       "      <td>Animation, Drama</td>\n",
       "      <td>Eric Khoo</td>\n",
       "      <td>Eric Khoo, Yoshihiro Tatsumi</td>\n",
       "      <td>Tetsuya Bessho, Motoko Gollent, Yoshihiro Tats...</td>\n",
       "      <td>96</td>\n",
       "      <td>New Video Group</td>\n",
       "      <td>...</td>\n",
       "      <td>11</td>\n",
       "      <td>Fresh</td>\n",
       "      <td>94</td>\n",
       "      <td>18</td>\n",
       "      <td>Upright</td>\n",
       "      <td>80</td>\n",
       "      <td>486</td>\n",
       "      <td>7</td>\n",
       "      <td>17</td>\n",
       "      <td>1</td>\n",
       "    </tr>\n",
       "    <tr>\n",
       "      <th>10</th>\n",
       "      <td>m/1000204-abraham_lincoln</td>\n",
       "      <td>Abraham Lincoln</td>\n",
       "      <td>The 16th U.S. president (Walter Huston) is por...</td>\n",
       "      <td>NR</td>\n",
       "      <td>Classics, Drama</td>\n",
       "      <td>D.W. Griffith</td>\n",
       "      <td>Gerrit J. Lloyd, Stephen Vincent Benét</td>\n",
       "      <td>Walter Huston, Una Merkel, Kay Hammond, Ian Ke...</td>\n",
       "      <td>97</td>\n",
       "      <td>United Artists</td>\n",
       "      <td>...</td>\n",
       "      <td>12</td>\n",
       "      <td>Fresh</td>\n",
       "      <td>82</td>\n",
       "      <td>11</td>\n",
       "      <td>Spilled</td>\n",
       "      <td>40</td>\n",
       "      <td>457</td>\n",
       "      <td>4</td>\n",
       "      <td>9</td>\n",
       "      <td>2</td>\n",
       "    </tr>\n",
       "    <tr>\n",
       "      <th>11</th>\n",
       "      <td>m/10002114-dark_water</td>\n",
       "      <td>Dark Water</td>\n",
       "      <td>In this moody Japanese horror film, newly-sing...</td>\n",
       "      <td>PG-13</td>\n",
       "      <td>Art House &amp; International, Horror, Mystery &amp; S...</td>\n",
       "      <td>Hideo Nakata</td>\n",
       "      <td>Hideo Hakata, Takashige Ichise, Yoshihiro Naka...</td>\n",
       "      <td>Hitomi Kuroki, Rio Kanno, Shigemitsu Ogi, Mire...</td>\n",
       "      <td>100</td>\n",
       "      <td>Toho Company Ltd</td>\n",
       "      <td>...</td>\n",
       "      <td>3</td>\n",
       "      <td>Fresh</td>\n",
       "      <td>80</td>\n",
       "      <td>15</td>\n",
       "      <td>Upright</td>\n",
       "      <td>66</td>\n",
       "      <td>21475</td>\n",
       "      <td>3</td>\n",
       "      <td>12</td>\n",
       "      <td>3</td>\n",
       "    </tr>\n",
       "    <tr>\n",
       "      <th>12</th>\n",
       "      <td>m/1000224-accused</td>\n",
       "      <td>The Accused</td>\n",
       "      <td>Out drinking one night after a fight with her ...</td>\n",
       "      <td>R</td>\n",
       "      <td>Drama, Mystery &amp; Suspense</td>\n",
       "      <td>Jonathan Kaplan</td>\n",
       "      <td>Tom Topor</td>\n",
       "      <td>Jodie Foster, Kelly McGillis, Bernie Coulson, ...</td>\n",
       "      <td>110</td>\n",
       "      <td>Paramount Pictures</td>\n",
       "      <td>...</td>\n",
       "      <td>10</td>\n",
       "      <td>Fresh</td>\n",
       "      <td>91</td>\n",
       "      <td>22</td>\n",
       "      <td>Upright</td>\n",
       "      <td>79</td>\n",
       "      <td>20821</td>\n",
       "      <td>1</td>\n",
       "      <td>20</td>\n",
       "      <td>2</td>\n",
       "    </tr>\n",
       "    <tr>\n",
       "      <th>13</th>\n",
       "      <td>m/10002516-lost_city</td>\n",
       "      <td>The Lost City</td>\n",
       "      <td>Fico Fellove (Andy Garcia), an apolitical Hava...</td>\n",
       "      <td>R</td>\n",
       "      <td>Drama</td>\n",
       "      <td>Andy Garcia</td>\n",
       "      <td>G. Cabrera Infante, Guillermo Cabrera Infante</td>\n",
       "      <td>Andy Garcia, Dustin Hoffman, Bill Murray, Inés...</td>\n",
       "      <td>143</td>\n",
       "      <td>Magnolia Pictures</td>\n",
       "      <td>...</td>\n",
       "      <td>3</td>\n",
       "      <td>Rotten</td>\n",
       "      <td>25</td>\n",
       "      <td>83</td>\n",
       "      <td>Upright</td>\n",
       "      <td>64</td>\n",
       "      <td>25944</td>\n",
       "      <td>37</td>\n",
       "      <td>21</td>\n",
       "      <td>62</td>\n",
       "    </tr>\n",
       "    <tr>\n",
       "      <th>14</th>\n",
       "      <td>m/10002519-breaking_point</td>\n",
       "      <td>The Breaking Point</td>\n",
       "      <td>A charter-boat captain winds up in the middle ...</td>\n",
       "      <td>NR</td>\n",
       "      <td>Drama</td>\n",
       "      <td>Michael Curtiz</td>\n",
       "      <td>Ranald MacDougall</td>\n",
       "      <td>John Garfield, Patricia Neal, Phyllis Thaxter,...</td>\n",
       "      <td>97</td>\n",
       "      <td>Warner Home Video</td>\n",
       "      <td>...</td>\n",
       "      <td>8</td>\n",
       "      <td>Fresh</td>\n",
       "      <td>100</td>\n",
       "      <td>10</td>\n",
       "      <td>Upright</td>\n",
       "      <td>86</td>\n",
       "      <td>335</td>\n",
       "      <td>1</td>\n",
       "      <td>10</td>\n",
       "      <td>0</td>\n",
       "    </tr>\n",
       "    <tr>\n",
       "      <th>15</th>\n",
       "      <td>m/1000253-adams_rib</td>\n",
       "      <td>Adam's Rib</td>\n",
       "      <td>A courtroom rivalry finds its way into the hou...</td>\n",
       "      <td>NR</td>\n",
       "      <td>Classics, Comedy, Romance</td>\n",
       "      <td>George Cukor</td>\n",
       "      <td>Garson Kanin, Ruth Gordon</td>\n",
       "      <td>Spencer Tracy, Katharine Hepburn, Judy Hollida...</td>\n",
       "      <td>101</td>\n",
       "      <td>MGM Home Entertainment</td>\n",
       "      <td>...</td>\n",
       "      <td>5</td>\n",
       "      <td>Fresh</td>\n",
       "      <td>96</td>\n",
       "      <td>28</td>\n",
       "      <td>Upright</td>\n",
       "      <td>86</td>\n",
       "      <td>10563</td>\n",
       "      <td>6</td>\n",
       "      <td>27</td>\n",
       "      <td>1</td>\n",
       "    </tr>\n",
       "    <tr>\n",
       "      <th>16</th>\n",
       "      <td>m/10002635-bridge_of_san_luis_rey</td>\n",
       "      <td>The Bridge of San Luis Rey</td>\n",
       "      <td>During the Spanish Inquisition, Franciscan mon...</td>\n",
       "      <td>PG</td>\n",
       "      <td>Art House &amp; International, Drama, Faith &amp; Spir...</td>\n",
       "      <td>Mary McGuckian</td>\n",
       "      <td>Mary McGuckian</td>\n",
       "      <td>Gabriel Byrne, F. Murray Abraham, Kathy Bates,...</td>\n",
       "      <td>124</td>\n",
       "      <td>Fine Line Features</td>\n",
       "      <td>...</td>\n",
       "      <td>7</td>\n",
       "      <td>Rotten</td>\n",
       "      <td>4</td>\n",
       "      <td>24</td>\n",
       "      <td>Spilled</td>\n",
       "      <td>35</td>\n",
       "      <td>1935</td>\n",
       "      <td>13</td>\n",
       "      <td>1</td>\n",
       "      <td>23</td>\n",
       "    </tr>\n",
       "    <tr>\n",
       "      <th>17</th>\n",
       "      <td>m/10002673-prowler</td>\n",
       "      <td>The Prowler (Cost of Living )</td>\n",
       "      <td>After being frightened by a peeping Tom at her...</td>\n",
       "      <td>PG</td>\n",
       "      <td>Drama, Mystery &amp; Suspense</td>\n",
       "      <td>Joseph Losey</td>\n",
       "      <td>Robert Thoeren, Hugo Butler, Dalton Trumbo</td>\n",
       "      <td>Van Heflin, Evelyn Keyes, Katherine Warren, Jo...</td>\n",
       "      <td>92</td>\n",
       "      <td>VCI Entertainment</td>\n",
       "      <td>...</td>\n",
       "      <td>12</td>\n",
       "      <td>Fresh</td>\n",
       "      <td>100</td>\n",
       "      <td>18</td>\n",
       "      <td>Upright</td>\n",
       "      <td>86</td>\n",
       "      <td>286</td>\n",
       "      <td>6</td>\n",
       "      <td>18</td>\n",
       "      <td>0</td>\n",
       "    </tr>\n",
       "    <tr>\n",
       "      <th>18</th>\n",
       "      <td>m/10003276-criminal</td>\n",
       "      <td>Criminal</td>\n",
       "      <td>Needing a new partner capable of intricate con...</td>\n",
       "      <td>R</td>\n",
       "      <td>Drama, Mystery &amp; Suspense</td>\n",
       "      <td>Greggory Jacobs, Gregory Jacobs, Greg Jacobs</td>\n",
       "      <td>Gregory Jacobs, Fabián Bielinsky, Steven Soder...</td>\n",
       "      <td>John C. Reilly, Diego Luna, Maggie Gyllenhaal,...</td>\n",
       "      <td>87</td>\n",
       "      <td>Warner Bros. Pictures</td>\n",
       "      <td>...</td>\n",
       "      <td>4</td>\n",
       "      <td>Fresh</td>\n",
       "      <td>69</td>\n",
       "      <td>124</td>\n",
       "      <td>Spilled</td>\n",
       "      <td>57</td>\n",
       "      <td>6711</td>\n",
       "      <td>35</td>\n",
       "      <td>85</td>\n",
       "      <td>39</td>\n",
       "    </tr>\n",
       "    <tr>\n",
       "      <th>19</th>\n",
       "      <td>m/1000334-adventures_of_mark_twain</td>\n",
       "      <td>The Adventures of Mark Twain</td>\n",
       "      <td>In this claymation film, celebrated author Mar...</td>\n",
       "      <td>G</td>\n",
       "      <td>Action &amp; Adventure, Animation, Kids &amp; Family</td>\n",
       "      <td>Will Vinton</td>\n",
       "      <td>Susan Shadburne</td>\n",
       "      <td>James Whitmore, Michele Mariana, Gary Krug, Ch...</td>\n",
       "      <td>86</td>\n",
       "      <td>Eureka Entertainment Ltd</td>\n",
       "      <td>...</td>\n",
       "      <td>2</td>\n",
       "      <td>Fresh</td>\n",
       "      <td>80</td>\n",
       "      <td>5</td>\n",
       "      <td>Upright</td>\n",
       "      <td>82</td>\n",
       "      <td>1046</td>\n",
       "      <td>1</td>\n",
       "      <td>4</td>\n",
       "      <td>1</td>\n",
       "    </tr>\n",
       "  </tbody>\n",
       "</table>\n",
       "<p>20 rows × 21 columns</p>\n",
       "</div>"
      ],
      "text/plain": [
       "                     rotten_tomatoes_link  \\\n",
       "0                               m/0814255   \n",
       "1                               m/0878835   \n",
       "2                                    m/10   \n",
       "3                  m/1000013-12_angry_men   \n",
       "4   m/1000079-20000_leagues_under_the_sea   \n",
       "5                              m/10000_bc   \n",
       "6                      m/1000121-39_steps   \n",
       "7                   m/1000123-310_to_yuma   \n",
       "8                       m/10002008-charly   \n",
       "9                          m/tatsumi_2011   \n",
       "10              m/1000204-abraham_lincoln   \n",
       "11                  m/10002114-dark_water   \n",
       "12                      m/1000224-accused   \n",
       "13                   m/10002516-lost_city   \n",
       "14              m/10002519-breaking_point   \n",
       "15                    m/1000253-adams_rib   \n",
       "16      m/10002635-bridge_of_san_luis_rey   \n",
       "17                     m/10002673-prowler   \n",
       "18                    m/10003276-criminal   \n",
       "19     m/1000334-adventures_of_mark_twain   \n",
       "\n",
       "                                          movie_title  \\\n",
       "0   Percy Jackson & the Olympians: The Lightning T...   \n",
       "1                                         Please Give   \n",
       "2                                                  10   \n",
       "3                     12 Angry Men (Twelve Angry Men)   \n",
       "4                        20,000 Leagues Under The Sea   \n",
       "5                                         10,000 B.C.   \n",
       "6                                        The 39 Steps   \n",
       "7                                        3:10 to Yuma   \n",
       "8                           Charly (A Heartbeat Away)   \n",
       "9                                             Tatsumi   \n",
       "10                                    Abraham Lincoln   \n",
       "11                                         Dark Water   \n",
       "12                                        The Accused   \n",
       "13                                      The Lost City   \n",
       "14                                 The Breaking Point   \n",
       "15                                         Adam's Rib   \n",
       "16                         The Bridge of San Luis Rey   \n",
       "17                      The Prowler (Cost of Living )   \n",
       "18                                           Criminal   \n",
       "19                       The Adventures of Mark Twain   \n",
       "\n",
       "                                           movie_info content_rating  \\\n",
       "0   Always trouble-prone, the life of teenager Per...             PG   \n",
       "1   Kate (Catherine Keener) and her husband Alex (...              R   \n",
       "2   A successful, middle-aged Hollywood songwriter...              R   \n",
       "3   Following the closing arguments in a murder tr...             NR   \n",
       "4   In 1866, Professor Pierre M. Aronnax (Paul Luk...              G   \n",
       "5   Mammoth hunter D'Leh (Steven Strait) has long ...          PG-13   \n",
       "6   While on vacation in London, Canadian Richard ...             NR   \n",
       "7   Dan Evans (Van Heflin), a drought-plagued Ariz...             NR   \n",
       "8   Cultural differences, past loves and personal ...             PG   \n",
       "9   Yoshihiro Tatsumi works as a comic-book artist...             NR   \n",
       "10  The 16th U.S. president (Walter Huston) is por...             NR   \n",
       "11  In this moody Japanese horror film, newly-sing...          PG-13   \n",
       "12  Out drinking one night after a fight with her ...              R   \n",
       "13  Fico Fellove (Andy Garcia), an apolitical Hava...              R   \n",
       "14  A charter-boat captain winds up in the middle ...             NR   \n",
       "15  A courtroom rivalry finds its way into the hou...             NR   \n",
       "16  During the Spanish Inquisition, Franciscan mon...             PG   \n",
       "17  After being frightened by a peeping Tom at her...             PG   \n",
       "18  Needing a new partner capable of intricate con...              R   \n",
       "19  In this claymation film, celebrated author Mar...              G   \n",
       "\n",
       "                                               genres  \\\n",
       "0   Action & Adventure, Comedy, Drama, Science Fic...   \n",
       "1                                              Comedy   \n",
       "2                                     Comedy, Romance   \n",
       "3                                     Classics, Drama   \n",
       "4            Action & Adventure, Drama, Kids & Family   \n",
       "5                 Action & Adventure, Classics, Drama   \n",
       "6    Action & Adventure, Classics, Mystery & Suspense   \n",
       "7                            Classics, Drama, Western   \n",
       "8                              Comedy, Drama, Romance   \n",
       "9                                    Animation, Drama   \n",
       "10                                    Classics, Drama   \n",
       "11  Art House & International, Horror, Mystery & S...   \n",
       "12                          Drama, Mystery & Suspense   \n",
       "13                                              Drama   \n",
       "14                                              Drama   \n",
       "15                          Classics, Comedy, Romance   \n",
       "16  Art House & International, Drama, Faith & Spir...   \n",
       "17                          Drama, Mystery & Suspense   \n",
       "18                          Drama, Mystery & Suspense   \n",
       "19       Action & Adventure, Animation, Kids & Family   \n",
       "\n",
       "                                       directors  \\\n",
       "0                                 Chris Columbus   \n",
       "1                              Nicole Holofcener   \n",
       "2                                  Blake Edwards   \n",
       "3                                   Sidney Lumet   \n",
       "4                              Richard Fleischer   \n",
       "5                                Roland Emmerich   \n",
       "6                               Alfred Hitchcock   \n",
       "7                                   Delmer Daves   \n",
       "8                           Adam Thomas Anderegg   \n",
       "9                                      Eric Khoo   \n",
       "10                                 D.W. Griffith   \n",
       "11                                  Hideo Nakata   \n",
       "12                               Jonathan Kaplan   \n",
       "13                                   Andy Garcia   \n",
       "14                                Michael Curtiz   \n",
       "15                                  George Cukor   \n",
       "16                                Mary McGuckian   \n",
       "17                                  Joseph Losey   \n",
       "18  Greggory Jacobs, Gregory Jacobs, Greg Jacobs   \n",
       "19                                   Will Vinton   \n",
       "\n",
       "                                              authors  \\\n",
       "0          Craig Titley, Chris Columbus, Rick Riordan   \n",
       "1                                   Nicole Holofcener   \n",
       "2                                       Blake Edwards   \n",
       "3                                       Reginald Rose   \n",
       "4                                         Earl Felton   \n",
       "5                      Harald Kloser, Roland Emmerich   \n",
       "6   Alma Reville, Charles Bennett, Ian Hay, Alfred...   \n",
       "7                                      Halsted Welles   \n",
       "8                Jack Weyland, Janine Whetton Gilbert   \n",
       "9                        Eric Khoo, Yoshihiro Tatsumi   \n",
       "10             Gerrit J. Lloyd, Stephen Vincent Benét   \n",
       "11  Hideo Hakata, Takashige Ichise, Yoshihiro Naka...   \n",
       "12                                          Tom Topor   \n",
       "13      G. Cabrera Infante, Guillermo Cabrera Infante   \n",
       "14                                  Ranald MacDougall   \n",
       "15                          Garson Kanin, Ruth Gordon   \n",
       "16                                     Mary McGuckian   \n",
       "17         Robert Thoeren, Hugo Butler, Dalton Trumbo   \n",
       "18  Gregory Jacobs, Fabián Bielinsky, Steven Soder...   \n",
       "19                                    Susan Shadburne   \n",
       "\n",
       "                                               actors  runtime  \\\n",
       "0   Logan Lerman, Brandon T. Jackson, Alexandra Da...      119   \n",
       "1   Catherine Keener, Amanda Peet, Oliver Platt, R...       90   \n",
       "2   Dudley Moore, Bo Derek, Julie Andrews, Robert ...      122   \n",
       "3   Martin Balsam, John Fiedler, Lee J. Cobb, E.G....       95   \n",
       "4   James Mason, Kirk Douglas, Paul Lukas, Peter L...      127   \n",
       "5   Steven Strait, Camilla Belle, Cliff Curtis, Jo...      109   \n",
       "6   Robert Donat, Madeleine Carroll, Godfrey Tearl...       80   \n",
       "7   Glenn Ford, Van Heflin, Felicia Farr, Leora Da...       92   \n",
       "8   Heather Beers, Gary Neilson, Lisa McCammon, Ja...      103   \n",
       "9   Tetsuya Bessho, Motoko Gollent, Yoshihiro Tats...       96   \n",
       "10  Walter Huston, Una Merkel, Kay Hammond, Ian Ke...       97   \n",
       "11  Hitomi Kuroki, Rio Kanno, Shigemitsu Ogi, Mire...      100   \n",
       "12  Jodie Foster, Kelly McGillis, Bernie Coulson, ...      110   \n",
       "13  Andy Garcia, Dustin Hoffman, Bill Murray, Inés...      143   \n",
       "14  John Garfield, Patricia Neal, Phyllis Thaxter,...       97   \n",
       "15  Spencer Tracy, Katharine Hepburn, Judy Hollida...      101   \n",
       "16  Gabriel Byrne, F. Murray Abraham, Kathy Bates,...      124   \n",
       "17  Van Heflin, Evelyn Keyes, Katherine Warren, Jo...       92   \n",
       "18  John C. Reilly, Diego Luna, Maggie Gyllenhaal,...       87   \n",
       "19  James Whitmore, Michele Mariana, Gary Krug, Ch...       86   \n",
       "\n",
       "              production_company  ...  streaming_month  tomatometer_status  \\\n",
       "0               20th Century Fox  ...               11              Rotten   \n",
       "1         Sony Pictures Classics  ...                9               Fresh   \n",
       "2                    Waner Bros.  ...                7               Fresh   \n",
       "3           Criterion Collection  ...                1               Fresh   \n",
       "4                         Disney  ...                6               Fresh   \n",
       "5          Warner Bros. Pictures  ...                6              Rotten   \n",
       "6   Gaumont British Distributors  ...                1               Fresh   \n",
       "7              Columbia Pictures  ...                4               Fresh   \n",
       "8            Excel Entertainment  ...                5              Rotten   \n",
       "9                New Video Group  ...               11               Fresh   \n",
       "10                United Artists  ...               12               Fresh   \n",
       "11              Toho Company Ltd  ...                3               Fresh   \n",
       "12            Paramount Pictures  ...               10               Fresh   \n",
       "13             Magnolia Pictures  ...                3              Rotten   \n",
       "14             Warner Home Video  ...                8               Fresh   \n",
       "15        MGM Home Entertainment  ...                5               Fresh   \n",
       "16            Fine Line Features  ...                7              Rotten   \n",
       "17             VCI Entertainment  ...               12               Fresh   \n",
       "18         Warner Bros. Pictures  ...                4               Fresh   \n",
       "19      Eureka Entertainment Ltd  ...                2               Fresh   \n",
       "\n",
       "   tomatometer_rating  tomatometer_count  audience_status audience_rating  \\\n",
       "0                  49                149          Spilled              53   \n",
       "1                  87                142          Upright              64   \n",
       "2                  67                 24          Spilled              53   \n",
       "3                 100                 54          Upright              97   \n",
       "4                  89                 27          Upright              74   \n",
       "5                   8                149          Spilled              37   \n",
       "6                  96                 51          Upright              86   \n",
       "7                  96                 28          Upright              79   \n",
       "8                  20                 10          Upright              87   \n",
       "9                  94                 18          Upright              80   \n",
       "10                 82                 11          Spilled              40   \n",
       "11                 80                 15          Upright              66   \n",
       "12                 91                 22          Upright              79   \n",
       "13                 25                 83          Upright              64   \n",
       "14                100                 10          Upright              86   \n",
       "15                 96                 28          Upright              86   \n",
       "16                  4                 24          Spilled              35   \n",
       "17                100                 18          Upright              86   \n",
       "18                 69                124          Spilled              57   \n",
       "19                 80                  5          Upright              82   \n",
       "\n",
       "    audience_count  tomatometer_top_critics_count  \\\n",
       "0           254421                             43   \n",
       "1            11574                             44   \n",
       "2            14684                              2   \n",
       "3           105386                              6   \n",
       "4            68918                              5   \n",
       "5           411140                             37   \n",
       "6            23890                              8   \n",
       "7             9243                              6   \n",
       "8             4819                              0   \n",
       "9              486                              7   \n",
       "10             457                              4   \n",
       "11           21475                              3   \n",
       "12           20821                              1   \n",
       "13           25944                             37   \n",
       "14             335                              1   \n",
       "15           10563                              6   \n",
       "16            1935                             13   \n",
       "17             286                              6   \n",
       "18            6711                             35   \n",
       "19            1046                              1   \n",
       "\n",
       "    tomatometer_fresh_critics_count  tomatometer_rotten_critics_count  \n",
       "0                                73                                76  \n",
       "1                               123                                19  \n",
       "2                                16                                 8  \n",
       "3                                54                                 0  \n",
       "4                                24                                 3  \n",
       "5                                12                               137  \n",
       "6                                49                                 2  \n",
       "7                                27                                 1  \n",
       "8                                 2                                 8  \n",
       "9                                17                                 1  \n",
       "10                                9                                 2  \n",
       "11                               12                                 3  \n",
       "12                               20                                 2  \n",
       "13                               21                                62  \n",
       "14                               10                                 0  \n",
       "15                               27                                 1  \n",
       "16                                1                                23  \n",
       "17                               18                                 0  \n",
       "18                               85                                39  \n",
       "19                                4                                 1  \n",
       "\n",
       "[20 rows x 21 columns]"
      ]
     },
     "execution_count": 4,
     "metadata": {},
     "output_type": "execute_result"
    }
   ],
   "source": [
    "# sorted_df=moviedf.sort_values(by =['production_company'], ascending=False)\n",
    "# sorted_df\n",
    "top_companies = pd.DataFrame(moviedf.head(20))\n",
    "top_companies\n"
   ]
  },
  {
   "cell_type": "code",
   "execution_count": 136,
   "metadata": {},
   "outputs": [],
   "source": [
    "# movie_rating_df = moviedf.query(tomatometer_status,)\n",
    "\n",
    "# fresh_fig = px.scatter(moviedf, x='tomatometer_count', y='runtime', color=top_movies)\n",
    "# fresh_fig.show()\n"
   ]
  },
  {
   "cell_type": "code",
   "execution_count": 12,
   "metadata": {},
   "outputs": [
    {
     "data": {
      "application/vnd.plotly.v1+json": {
       "config": {
        "plotlyServerURL": "https://plot.ly"
       },
       "data": [
        {
         "hovertemplate": "<b>%{hovertext}</b><br><br>production_company=20th Century Fox<br>tomatometer_rating=%{x}<br>runtime=%{y}<br>streaming_month=%{marker.size}<extra></extra>",
         "hovertext": [
          "Percy Jackson & the Olympians: The Lightning Thief"
         ],
         "legendgroup": "20th Century Fox",
         "marker": {
          "color": "#636efa",
          "size": [
           11
          ],
          "sizemode": "area",
          "sizeref": 0.0012,
          "symbol": "circle"
         },
         "mode": "markers",
         "name": "20th Century Fox",
         "orientation": "v",
         "showlegend": true,
         "type": "scatter",
         "x": [
          49
         ],
         "xaxis": "x",
         "y": [
          119
         ],
         "yaxis": "y"
        },
        {
         "hovertemplate": "<b>%{hovertext}</b><br><br>production_company=Sony Pictures Classics<br>tomatometer_rating=%{x}<br>runtime=%{y}<br>streaming_month=%{marker.size}<extra></extra>",
         "hovertext": [
          "Please Give"
         ],
         "legendgroup": "Sony Pictures Classics",
         "marker": {
          "color": "#EF553B",
          "size": [
           9
          ],
          "sizemode": "area",
          "sizeref": 0.0012,
          "symbol": "circle"
         },
         "mode": "markers",
         "name": "Sony Pictures Classics",
         "orientation": "v",
         "showlegend": true,
         "type": "scatter",
         "x": [
          87
         ],
         "xaxis": "x",
         "y": [
          90
         ],
         "yaxis": "y"
        },
        {
         "hovertemplate": "<b>%{hovertext}</b><br><br>production_company=Waner Bros.<br>tomatometer_rating=%{x}<br>runtime=%{y}<br>streaming_month=%{marker.size}<extra></extra>",
         "hovertext": [
          "10"
         ],
         "legendgroup": "Waner Bros.",
         "marker": {
          "color": "#00cc96",
          "size": [
           7
          ],
          "sizemode": "area",
          "sizeref": 0.0012,
          "symbol": "circle"
         },
         "mode": "markers",
         "name": "Waner Bros.",
         "orientation": "v",
         "showlegend": true,
         "type": "scatter",
         "x": [
          67
         ],
         "xaxis": "x",
         "y": [
          122
         ],
         "yaxis": "y"
        },
        {
         "hovertemplate": "<b>%{hovertext}</b><br><br>production_company=Criterion Collection<br>tomatometer_rating=%{x}<br>runtime=%{y}<br>streaming_month=%{marker.size}<extra></extra>",
         "hovertext": [
          "12 Angry Men (Twelve Angry Men)"
         ],
         "legendgroup": "Criterion Collection",
         "marker": {
          "color": "#ab63fa",
          "size": [
           1
          ],
          "sizemode": "area",
          "sizeref": 0.0012,
          "symbol": "circle"
         },
         "mode": "markers",
         "name": "Criterion Collection",
         "orientation": "v",
         "showlegend": true,
         "type": "scatter",
         "x": [
          100
         ],
         "xaxis": "x",
         "y": [
          95
         ],
         "yaxis": "y"
        },
        {
         "hovertemplate": "<b>%{hovertext}</b><br><br>production_company=Disney<br>tomatometer_rating=%{x}<br>runtime=%{y}<br>streaming_month=%{marker.size}<extra></extra>",
         "hovertext": [
          "20,000 Leagues Under The Sea"
         ],
         "legendgroup": "Disney",
         "marker": {
          "color": "#FFA15A",
          "size": [
           6
          ],
          "sizemode": "area",
          "sizeref": 0.0012,
          "symbol": "circle"
         },
         "mode": "markers",
         "name": "Disney",
         "orientation": "v",
         "showlegend": true,
         "type": "scatter",
         "x": [
          89
         ],
         "xaxis": "x",
         "y": [
          127
         ],
         "yaxis": "y"
        },
        {
         "hovertemplate": "<b>%{hovertext}</b><br><br>production_company=Warner Bros. Pictures<br>tomatometer_rating=%{x}<br>runtime=%{y}<br>streaming_month=%{marker.size}<extra></extra>",
         "hovertext": [
          "10,000 B.C.",
          "Criminal"
         ],
         "legendgroup": "Warner Bros. Pictures",
         "marker": {
          "color": "#19d3f3",
          "size": [
           6,
           4
          ],
          "sizemode": "area",
          "sizeref": 0.0012,
          "symbol": "circle"
         },
         "mode": "markers",
         "name": "Warner Bros. Pictures",
         "orientation": "v",
         "showlegend": true,
         "type": "scatter",
         "x": [
          8,
          69
         ],
         "xaxis": "x",
         "y": [
          109,
          87
         ],
         "yaxis": "y"
        },
        {
         "hovertemplate": "<b>%{hovertext}</b><br><br>production_company=Gaumont British Distributors<br>tomatometer_rating=%{x}<br>runtime=%{y}<br>streaming_month=%{marker.size}<extra></extra>",
         "hovertext": [
          "The 39 Steps"
         ],
         "legendgroup": "Gaumont British Distributors",
         "marker": {
          "color": "#FF6692",
          "size": [
           1
          ],
          "sizemode": "area",
          "sizeref": 0.0012,
          "symbol": "circle"
         },
         "mode": "markers",
         "name": "Gaumont British Distributors",
         "orientation": "v",
         "showlegend": true,
         "type": "scatter",
         "x": [
          96
         ],
         "xaxis": "x",
         "y": [
          80
         ],
         "yaxis": "y"
        },
        {
         "hovertemplate": "<b>%{hovertext}</b><br><br>production_company=Columbia Pictures<br>tomatometer_rating=%{x}<br>runtime=%{y}<br>streaming_month=%{marker.size}<extra></extra>",
         "hovertext": [
          "3:10 to Yuma"
         ],
         "legendgroup": "Columbia Pictures",
         "marker": {
          "color": "#B6E880",
          "size": [
           4
          ],
          "sizemode": "area",
          "sizeref": 0.0012,
          "symbol": "circle"
         },
         "mode": "markers",
         "name": "Columbia Pictures",
         "orientation": "v",
         "showlegend": true,
         "type": "scatter",
         "x": [
          96
         ],
         "xaxis": "x",
         "y": [
          92
         ],
         "yaxis": "y"
        },
        {
         "hovertemplate": "<b>%{hovertext}</b><br><br>production_company=Excel Entertainment<br>tomatometer_rating=%{x}<br>runtime=%{y}<br>streaming_month=%{marker.size}<extra></extra>",
         "hovertext": [
          "Charly (A Heartbeat Away)"
         ],
         "legendgroup": "Excel Entertainment",
         "marker": {
          "color": "#FF97FF",
          "size": [
           5
          ],
          "sizemode": "area",
          "sizeref": 0.0012,
          "symbol": "circle"
         },
         "mode": "markers",
         "name": "Excel Entertainment",
         "orientation": "v",
         "showlegend": true,
         "type": "scatter",
         "x": [
          20
         ],
         "xaxis": "x",
         "y": [
          103
         ],
         "yaxis": "y"
        },
        {
         "hovertemplate": "<b>%{hovertext}</b><br><br>production_company=New Video Group<br>tomatometer_rating=%{x}<br>runtime=%{y}<br>streaming_month=%{marker.size}<extra></extra>",
         "hovertext": [
          "Tatsumi"
         ],
         "legendgroup": "New Video Group",
         "marker": {
          "color": "#FECB52",
          "size": [
           11
          ],
          "sizemode": "area",
          "sizeref": 0.0012,
          "symbol": "circle"
         },
         "mode": "markers",
         "name": "New Video Group",
         "orientation": "v",
         "showlegend": true,
         "type": "scatter",
         "x": [
          94
         ],
         "xaxis": "x",
         "y": [
          96
         ],
         "yaxis": "y"
        },
        {
         "hovertemplate": "<b>%{hovertext}</b><br><br>production_company=United Artists<br>tomatometer_rating=%{x}<br>runtime=%{y}<br>streaming_month=%{marker.size}<extra></extra>",
         "hovertext": [
          "Abraham Lincoln"
         ],
         "legendgroup": "United Artists",
         "marker": {
          "color": "#636efa",
          "size": [
           12
          ],
          "sizemode": "area",
          "sizeref": 0.0012,
          "symbol": "circle"
         },
         "mode": "markers",
         "name": "United Artists",
         "orientation": "v",
         "showlegend": true,
         "type": "scatter",
         "x": [
          82
         ],
         "xaxis": "x",
         "y": [
          97
         ],
         "yaxis": "y"
        },
        {
         "hovertemplate": "<b>%{hovertext}</b><br><br>production_company=Toho Company Ltd<br>tomatometer_rating=%{x}<br>runtime=%{y}<br>streaming_month=%{marker.size}<extra></extra>",
         "hovertext": [
          "Dark Water"
         ],
         "legendgroup": "Toho Company Ltd",
         "marker": {
          "color": "#EF553B",
          "size": [
           3
          ],
          "sizemode": "area",
          "sizeref": 0.0012,
          "symbol": "circle"
         },
         "mode": "markers",
         "name": "Toho Company Ltd",
         "orientation": "v",
         "showlegend": true,
         "type": "scatter",
         "x": [
          80
         ],
         "xaxis": "x",
         "y": [
          100
         ],
         "yaxis": "y"
        },
        {
         "hovertemplate": "<b>%{hovertext}</b><br><br>production_company=Paramount Pictures<br>tomatometer_rating=%{x}<br>runtime=%{y}<br>streaming_month=%{marker.size}<extra></extra>",
         "hovertext": [
          "The Accused"
         ],
         "legendgroup": "Paramount Pictures",
         "marker": {
          "color": "#00cc96",
          "size": [
           10
          ],
          "sizemode": "area",
          "sizeref": 0.0012,
          "symbol": "circle"
         },
         "mode": "markers",
         "name": "Paramount Pictures",
         "orientation": "v",
         "showlegend": true,
         "type": "scatter",
         "x": [
          91
         ],
         "xaxis": "x",
         "y": [
          110
         ],
         "yaxis": "y"
        },
        {
         "hovertemplate": "<b>%{hovertext}</b><br><br>production_company=Magnolia Pictures<br>tomatometer_rating=%{x}<br>runtime=%{y}<br>streaming_month=%{marker.size}<extra></extra>",
         "hovertext": [
          "The Lost City"
         ],
         "legendgroup": "Magnolia Pictures",
         "marker": {
          "color": "#ab63fa",
          "size": [
           3
          ],
          "sizemode": "area",
          "sizeref": 0.0012,
          "symbol": "circle"
         },
         "mode": "markers",
         "name": "Magnolia Pictures",
         "orientation": "v",
         "showlegend": true,
         "type": "scatter",
         "x": [
          25
         ],
         "xaxis": "x",
         "y": [
          143
         ],
         "yaxis": "y"
        },
        {
         "hovertemplate": "<b>%{hovertext}</b><br><br>production_company=Warner Home Video<br>tomatometer_rating=%{x}<br>runtime=%{y}<br>streaming_month=%{marker.size}<extra></extra>",
         "hovertext": [
          "The Breaking Point"
         ],
         "legendgroup": "Warner Home Video",
         "marker": {
          "color": "#FFA15A",
          "size": [
           8
          ],
          "sizemode": "area",
          "sizeref": 0.0012,
          "symbol": "circle"
         },
         "mode": "markers",
         "name": "Warner Home Video",
         "orientation": "v",
         "showlegend": true,
         "type": "scatter",
         "x": [
          100
         ],
         "xaxis": "x",
         "y": [
          97
         ],
         "yaxis": "y"
        },
        {
         "hovertemplate": "<b>%{hovertext}</b><br><br>production_company=MGM Home Entertainment<br>tomatometer_rating=%{x}<br>runtime=%{y}<br>streaming_month=%{marker.size}<extra></extra>",
         "hovertext": [
          "Adam's Rib"
         ],
         "legendgroup": "MGM Home Entertainment",
         "marker": {
          "color": "#19d3f3",
          "size": [
           5
          ],
          "sizemode": "area",
          "sizeref": 0.0012,
          "symbol": "circle"
         },
         "mode": "markers",
         "name": "MGM Home Entertainment",
         "orientation": "v",
         "showlegend": true,
         "type": "scatter",
         "x": [
          96
         ],
         "xaxis": "x",
         "y": [
          101
         ],
         "yaxis": "y"
        },
        {
         "hovertemplate": "<b>%{hovertext}</b><br><br>production_company=Fine Line Features<br>tomatometer_rating=%{x}<br>runtime=%{y}<br>streaming_month=%{marker.size}<extra></extra>",
         "hovertext": [
          "The Bridge of San Luis Rey"
         ],
         "legendgroup": "Fine Line Features",
         "marker": {
          "color": "#FF6692",
          "size": [
           7
          ],
          "sizemode": "area",
          "sizeref": 0.0012,
          "symbol": "circle"
         },
         "mode": "markers",
         "name": "Fine Line Features",
         "orientation": "v",
         "showlegend": true,
         "type": "scatter",
         "x": [
          4
         ],
         "xaxis": "x",
         "y": [
          124
         ],
         "yaxis": "y"
        },
        {
         "hovertemplate": "<b>%{hovertext}</b><br><br>production_company=VCI Entertainment<br>tomatometer_rating=%{x}<br>runtime=%{y}<br>streaming_month=%{marker.size}<extra></extra>",
         "hovertext": [
          "The Prowler (Cost of Living )"
         ],
         "legendgroup": "VCI Entertainment",
         "marker": {
          "color": "#B6E880",
          "size": [
           12
          ],
          "sizemode": "area",
          "sizeref": 0.0012,
          "symbol": "circle"
         },
         "mode": "markers",
         "name": "VCI Entertainment",
         "orientation": "v",
         "showlegend": true,
         "type": "scatter",
         "x": [
          100
         ],
         "xaxis": "x",
         "y": [
          92
         ],
         "yaxis": "y"
        },
        {
         "hovertemplate": "<b>%{hovertext}</b><br><br>production_company=Eureka Entertainment Ltd<br>tomatometer_rating=%{x}<br>runtime=%{y}<br>streaming_month=%{marker.size}<extra></extra>",
         "hovertext": [
          "The Adventures of Mark Twain"
         ],
         "legendgroup": "Eureka Entertainment Ltd",
         "marker": {
          "color": "#FF97FF",
          "size": [
           2
          ],
          "sizemode": "area",
          "sizeref": 0.0012,
          "symbol": "circle"
         },
         "mode": "markers",
         "name": "Eureka Entertainment Ltd",
         "orientation": "v",
         "showlegend": true,
         "type": "scatter",
         "x": [
          80
         ],
         "xaxis": "x",
         "y": [
          86
         ],
         "yaxis": "y"
        }
       ],
       "layout": {
        "legend": {
         "itemsizing": "constant",
         "title": {
          "text": "production_company"
         },
         "tracegroupgap": 0
        },
        "margin": {
         "t": 60
        },
        "template": {
         "data": {
          "bar": [
           {
            "error_x": {
             "color": "#2a3f5f"
            },
            "error_y": {
             "color": "#2a3f5f"
            },
            "marker": {
             "line": {
              "color": "#E5ECF6",
              "width": 0.5
             },
             "pattern": {
              "fillmode": "overlay",
              "size": 10,
              "solidity": 0.2
             }
            },
            "type": "bar"
           }
          ],
          "barpolar": [
           {
            "marker": {
             "line": {
              "color": "#E5ECF6",
              "width": 0.5
             },
             "pattern": {
              "fillmode": "overlay",
              "size": 10,
              "solidity": 0.2
             }
            },
            "type": "barpolar"
           }
          ],
          "carpet": [
           {
            "aaxis": {
             "endlinecolor": "#2a3f5f",
             "gridcolor": "white",
             "linecolor": "white",
             "minorgridcolor": "white",
             "startlinecolor": "#2a3f5f"
            },
            "baxis": {
             "endlinecolor": "#2a3f5f",
             "gridcolor": "white",
             "linecolor": "white",
             "minorgridcolor": "white",
             "startlinecolor": "#2a3f5f"
            },
            "type": "carpet"
           }
          ],
          "choropleth": [
           {
            "colorbar": {
             "outlinewidth": 0,
             "ticks": ""
            },
            "type": "choropleth"
           }
          ],
          "contour": [
           {
            "colorbar": {
             "outlinewidth": 0,
             "ticks": ""
            },
            "colorscale": [
             [
              0,
              "#0d0887"
             ],
             [
              0.1111111111111111,
              "#46039f"
             ],
             [
              0.2222222222222222,
              "#7201a8"
             ],
             [
              0.3333333333333333,
              "#9c179e"
             ],
             [
              0.4444444444444444,
              "#bd3786"
             ],
             [
              0.5555555555555556,
              "#d8576b"
             ],
             [
              0.6666666666666666,
              "#ed7953"
             ],
             [
              0.7777777777777778,
              "#fb9f3a"
             ],
             [
              0.8888888888888888,
              "#fdca26"
             ],
             [
              1,
              "#f0f921"
             ]
            ],
            "type": "contour"
           }
          ],
          "contourcarpet": [
           {
            "colorbar": {
             "outlinewidth": 0,
             "ticks": ""
            },
            "type": "contourcarpet"
           }
          ],
          "heatmap": [
           {
            "colorbar": {
             "outlinewidth": 0,
             "ticks": ""
            },
            "colorscale": [
             [
              0,
              "#0d0887"
             ],
             [
              0.1111111111111111,
              "#46039f"
             ],
             [
              0.2222222222222222,
              "#7201a8"
             ],
             [
              0.3333333333333333,
              "#9c179e"
             ],
             [
              0.4444444444444444,
              "#bd3786"
             ],
             [
              0.5555555555555556,
              "#d8576b"
             ],
             [
              0.6666666666666666,
              "#ed7953"
             ],
             [
              0.7777777777777778,
              "#fb9f3a"
             ],
             [
              0.8888888888888888,
              "#fdca26"
             ],
             [
              1,
              "#f0f921"
             ]
            ],
            "type": "heatmap"
           }
          ],
          "heatmapgl": [
           {
            "colorbar": {
             "outlinewidth": 0,
             "ticks": ""
            },
            "colorscale": [
             [
              0,
              "#0d0887"
             ],
             [
              0.1111111111111111,
              "#46039f"
             ],
             [
              0.2222222222222222,
              "#7201a8"
             ],
             [
              0.3333333333333333,
              "#9c179e"
             ],
             [
              0.4444444444444444,
              "#bd3786"
             ],
             [
              0.5555555555555556,
              "#d8576b"
             ],
             [
              0.6666666666666666,
              "#ed7953"
             ],
             [
              0.7777777777777778,
              "#fb9f3a"
             ],
             [
              0.8888888888888888,
              "#fdca26"
             ],
             [
              1,
              "#f0f921"
             ]
            ],
            "type": "heatmapgl"
           }
          ],
          "histogram": [
           {
            "marker": {
             "pattern": {
              "fillmode": "overlay",
              "size": 10,
              "solidity": 0.2
             }
            },
            "type": "histogram"
           }
          ],
          "histogram2d": [
           {
            "colorbar": {
             "outlinewidth": 0,
             "ticks": ""
            },
            "colorscale": [
             [
              0,
              "#0d0887"
             ],
             [
              0.1111111111111111,
              "#46039f"
             ],
             [
              0.2222222222222222,
              "#7201a8"
             ],
             [
              0.3333333333333333,
              "#9c179e"
             ],
             [
              0.4444444444444444,
              "#bd3786"
             ],
             [
              0.5555555555555556,
              "#d8576b"
             ],
             [
              0.6666666666666666,
              "#ed7953"
             ],
             [
              0.7777777777777778,
              "#fb9f3a"
             ],
             [
              0.8888888888888888,
              "#fdca26"
             ],
             [
              1,
              "#f0f921"
             ]
            ],
            "type": "histogram2d"
           }
          ],
          "histogram2dcontour": [
           {
            "colorbar": {
             "outlinewidth": 0,
             "ticks": ""
            },
            "colorscale": [
             [
              0,
              "#0d0887"
             ],
             [
              0.1111111111111111,
              "#46039f"
             ],
             [
              0.2222222222222222,
              "#7201a8"
             ],
             [
              0.3333333333333333,
              "#9c179e"
             ],
             [
              0.4444444444444444,
              "#bd3786"
             ],
             [
              0.5555555555555556,
              "#d8576b"
             ],
             [
              0.6666666666666666,
              "#ed7953"
             ],
             [
              0.7777777777777778,
              "#fb9f3a"
             ],
             [
              0.8888888888888888,
              "#fdca26"
             ],
             [
              1,
              "#f0f921"
             ]
            ],
            "type": "histogram2dcontour"
           }
          ],
          "mesh3d": [
           {
            "colorbar": {
             "outlinewidth": 0,
             "ticks": ""
            },
            "type": "mesh3d"
           }
          ],
          "parcoords": [
           {
            "line": {
             "colorbar": {
              "outlinewidth": 0,
              "ticks": ""
             }
            },
            "type": "parcoords"
           }
          ],
          "pie": [
           {
            "automargin": true,
            "type": "pie"
           }
          ],
          "scatter": [
           {
            "marker": {
             "colorbar": {
              "outlinewidth": 0,
              "ticks": ""
             }
            },
            "type": "scatter"
           }
          ],
          "scatter3d": [
           {
            "line": {
             "colorbar": {
              "outlinewidth": 0,
              "ticks": ""
             }
            },
            "marker": {
             "colorbar": {
              "outlinewidth": 0,
              "ticks": ""
             }
            },
            "type": "scatter3d"
           }
          ],
          "scattercarpet": [
           {
            "marker": {
             "colorbar": {
              "outlinewidth": 0,
              "ticks": ""
             }
            },
            "type": "scattercarpet"
           }
          ],
          "scattergeo": [
           {
            "marker": {
             "colorbar": {
              "outlinewidth": 0,
              "ticks": ""
             }
            },
            "type": "scattergeo"
           }
          ],
          "scattergl": [
           {
            "marker": {
             "colorbar": {
              "outlinewidth": 0,
              "ticks": ""
             }
            },
            "type": "scattergl"
           }
          ],
          "scattermapbox": [
           {
            "marker": {
             "colorbar": {
              "outlinewidth": 0,
              "ticks": ""
             }
            },
            "type": "scattermapbox"
           }
          ],
          "scatterpolar": [
           {
            "marker": {
             "colorbar": {
              "outlinewidth": 0,
              "ticks": ""
             }
            },
            "type": "scatterpolar"
           }
          ],
          "scatterpolargl": [
           {
            "marker": {
             "colorbar": {
              "outlinewidth": 0,
              "ticks": ""
             }
            },
            "type": "scatterpolargl"
           }
          ],
          "scatterternary": [
           {
            "marker": {
             "colorbar": {
              "outlinewidth": 0,
              "ticks": ""
             }
            },
            "type": "scatterternary"
           }
          ],
          "surface": [
           {
            "colorbar": {
             "outlinewidth": 0,
             "ticks": ""
            },
            "colorscale": [
             [
              0,
              "#0d0887"
             ],
             [
              0.1111111111111111,
              "#46039f"
             ],
             [
              0.2222222222222222,
              "#7201a8"
             ],
             [
              0.3333333333333333,
              "#9c179e"
             ],
             [
              0.4444444444444444,
              "#bd3786"
             ],
             [
              0.5555555555555556,
              "#d8576b"
             ],
             [
              0.6666666666666666,
              "#ed7953"
             ],
             [
              0.7777777777777778,
              "#fb9f3a"
             ],
             [
              0.8888888888888888,
              "#fdca26"
             ],
             [
              1,
              "#f0f921"
             ]
            ],
            "type": "surface"
           }
          ],
          "table": [
           {
            "cells": {
             "fill": {
              "color": "#EBF0F8"
             },
             "line": {
              "color": "white"
             }
            },
            "header": {
             "fill": {
              "color": "#C8D4E3"
             },
             "line": {
              "color": "white"
             }
            },
            "type": "table"
           }
          ]
         },
         "layout": {
          "annotationdefaults": {
           "arrowcolor": "#2a3f5f",
           "arrowhead": 0,
           "arrowwidth": 1
          },
          "autotypenumbers": "strict",
          "coloraxis": {
           "colorbar": {
            "outlinewidth": 0,
            "ticks": ""
           }
          },
          "colorscale": {
           "diverging": [
            [
             0,
             "#8e0152"
            ],
            [
             0.1,
             "#c51b7d"
            ],
            [
             0.2,
             "#de77ae"
            ],
            [
             0.3,
             "#f1b6da"
            ],
            [
             0.4,
             "#fde0ef"
            ],
            [
             0.5,
             "#f7f7f7"
            ],
            [
             0.6,
             "#e6f5d0"
            ],
            [
             0.7,
             "#b8e186"
            ],
            [
             0.8,
             "#7fbc41"
            ],
            [
             0.9,
             "#4d9221"
            ],
            [
             1,
             "#276419"
            ]
           ],
           "sequential": [
            [
             0,
             "#0d0887"
            ],
            [
             0.1111111111111111,
             "#46039f"
            ],
            [
             0.2222222222222222,
             "#7201a8"
            ],
            [
             0.3333333333333333,
             "#9c179e"
            ],
            [
             0.4444444444444444,
             "#bd3786"
            ],
            [
             0.5555555555555556,
             "#d8576b"
            ],
            [
             0.6666666666666666,
             "#ed7953"
            ],
            [
             0.7777777777777778,
             "#fb9f3a"
            ],
            [
             0.8888888888888888,
             "#fdca26"
            ],
            [
             1,
             "#f0f921"
            ]
           ],
           "sequentialminus": [
            [
             0,
             "#0d0887"
            ],
            [
             0.1111111111111111,
             "#46039f"
            ],
            [
             0.2222222222222222,
             "#7201a8"
            ],
            [
             0.3333333333333333,
             "#9c179e"
            ],
            [
             0.4444444444444444,
             "#bd3786"
            ],
            [
             0.5555555555555556,
             "#d8576b"
            ],
            [
             0.6666666666666666,
             "#ed7953"
            ],
            [
             0.7777777777777778,
             "#fb9f3a"
            ],
            [
             0.8888888888888888,
             "#fdca26"
            ],
            [
             1,
             "#f0f921"
            ]
           ]
          },
          "colorway": [
           "#636efa",
           "#EF553B",
           "#00cc96",
           "#ab63fa",
           "#FFA15A",
           "#19d3f3",
           "#FF6692",
           "#B6E880",
           "#FF97FF",
           "#FECB52"
          ],
          "font": {
           "color": "#2a3f5f"
          },
          "geo": {
           "bgcolor": "white",
           "lakecolor": "white",
           "landcolor": "#E5ECF6",
           "showlakes": true,
           "showland": true,
           "subunitcolor": "white"
          },
          "hoverlabel": {
           "align": "left"
          },
          "hovermode": "closest",
          "mapbox": {
           "style": "light"
          },
          "paper_bgcolor": "white",
          "plot_bgcolor": "#E5ECF6",
          "polar": {
           "angularaxis": {
            "gridcolor": "white",
            "linecolor": "white",
            "ticks": ""
           },
           "bgcolor": "#E5ECF6",
           "radialaxis": {
            "gridcolor": "white",
            "linecolor": "white",
            "ticks": ""
           }
          },
          "scene": {
           "xaxis": {
            "backgroundcolor": "#E5ECF6",
            "gridcolor": "white",
            "gridwidth": 2,
            "linecolor": "white",
            "showbackground": true,
            "ticks": "",
            "zerolinecolor": "white"
           },
           "yaxis": {
            "backgroundcolor": "#E5ECF6",
            "gridcolor": "white",
            "gridwidth": 2,
            "linecolor": "white",
            "showbackground": true,
            "ticks": "",
            "zerolinecolor": "white"
           },
           "zaxis": {
            "backgroundcolor": "#E5ECF6",
            "gridcolor": "white",
            "gridwidth": 2,
            "linecolor": "white",
            "showbackground": true,
            "ticks": "",
            "zerolinecolor": "white"
           }
          },
          "shapedefaults": {
           "line": {
            "color": "#2a3f5f"
           }
          },
          "ternary": {
           "aaxis": {
            "gridcolor": "white",
            "linecolor": "white",
            "ticks": ""
           },
           "baxis": {
            "gridcolor": "white",
            "linecolor": "white",
            "ticks": ""
           },
           "bgcolor": "#E5ECF6",
           "caxis": {
            "gridcolor": "white",
            "linecolor": "white",
            "ticks": ""
           }
          },
          "title": {
           "x": 0.05
          },
          "xaxis": {
           "automargin": true,
           "gridcolor": "white",
           "linecolor": "white",
           "ticks": "",
           "title": {
            "standoff": 15
           },
           "zerolinecolor": "white",
           "zerolinewidth": 2
          },
          "yaxis": {
           "automargin": true,
           "gridcolor": "white",
           "linecolor": "white",
           "ticks": "",
           "title": {
            "standoff": 15
           },
           "zerolinecolor": "white",
           "zerolinewidth": 2
          }
         }
        },
        "xaxis": {
         "anchor": "y",
         "domain": [
          0,
          1
         ],
         "title": {
          "text": "tomatometer_rating"
         }
        },
        "yaxis": {
         "anchor": "x",
         "domain": [
          0,
          1
         ],
         "title": {
          "text": "runtime"
         }
        }
       }
      }
     },
     "metadata": {},
     "output_type": "display_data"
    }
   ],
   "source": [
    "\n",
    "production_fig = px.scatter(top_companies, x='tomatometer_rating', y='runtime', size='streaming_month',size_max=100, color='production_company', hover_name=('movie_title'))\n",
    "\n",
    "production_fig.show()"
   ]
  },
  {
   "cell_type": "code",
   "execution_count": 57,
   "metadata": {},
   "outputs": [
    {
     "data": {
      "text/plain": [
       "Warner Bros. Pictures               484\n",
       "Paramount Pictures                  483\n",
       "Universal Pictures                  462\n",
       "20th Century Fox                    404\n",
       "IFC Films                           357\n",
       "Sony Pictures Home Entertainment    351\n",
       "Warner Home Video                   341\n",
       "MGM                                 264\n",
       "MGM Home Entertainment              242\n",
       "Sony Pictures Classics              231\n",
       "Name: production_company, dtype: int64"
      ]
     },
     "execution_count": 57,
     "metadata": {},
     "output_type": "execute_result"
    }
   ],
   "source": [
    "moviedf['production_company'].value_counts().head(10)\n"
   ]
  },
  {
   "cell_type": "code",
   "execution_count": 11,
   "metadata": {},
   "outputs": [
    {
     "data": {
      "application/vnd.plotly.v1+json": {
       "config": {
        "plotlyServerURL": "https://plot.ly"
       },
       "data": [
        {
         "hovertemplate": "<b>%{hovertext}</b><br><br>runtime=%{x}<br>production_company=%{y}<br>streaming_month=%{marker.size}<br>tomatometer_count=%{marker.color}<extra></extra>",
         "hovertext": [
          "Rotten",
          "Fresh",
          "Fresh",
          "Fresh",
          "Fresh",
          "Rotten",
          "Fresh",
          "Fresh",
          "Rotten",
          "Fresh",
          "Fresh",
          "Fresh",
          "Fresh",
          "Rotten",
          "Fresh",
          "Fresh",
          "Rotten",
          "Fresh",
          "Fresh",
          "Fresh"
         ],
         "legendgroup": "",
         "marker": {
          "color": [
           149,
           142,
           24,
           54,
           27,
           149,
           51,
           28,
           10,
           18,
           11,
           15,
           22,
           83,
           10,
           28,
           24,
           18,
           124,
           5
          ],
          "coloraxis": "coloraxis",
          "size": [
           11,
           9,
           7,
           1,
           6,
           6,
           1,
           4,
           5,
           11,
           12,
           3,
           10,
           3,
           8,
           5,
           7,
           12,
           4,
           2
          ],
          "sizemode": "area",
          "sizeref": 0.0012,
          "symbol": "circle"
         },
         "mode": "markers",
         "name": "",
         "orientation": "h",
         "showlegend": false,
         "type": "scatter",
         "x": [
          119,
          90,
          122,
          95,
          127,
          109,
          80,
          92,
          103,
          96,
          97,
          100,
          110,
          143,
          97,
          101,
          124,
          92,
          87,
          86
         ],
         "xaxis": "x",
         "y": [
          "20th Century Fox",
          "Sony Pictures Classics",
          "Waner Bros.",
          "Criterion Collection",
          "Disney",
          "Warner Bros. Pictures",
          "Gaumont British Distributors",
          "Columbia Pictures",
          "Excel Entertainment",
          "New Video Group",
          "United Artists",
          "Toho Company Ltd",
          "Paramount Pictures",
          "Magnolia Pictures",
          "Warner Home Video",
          "MGM Home Entertainment",
          "Fine Line Features",
          "VCI Entertainment",
          "Warner Bros. Pictures",
          "Eureka Entertainment Ltd"
         ],
         "yaxis": "y"
        }
       ],
       "layout": {
        "coloraxis": {
         "colorbar": {
          "title": {
           "text": "tomatometer_count"
          }
         },
         "colorscale": [
          [
           0,
           "#0d0887"
          ],
          [
           0.1111111111111111,
           "#46039f"
          ],
          [
           0.2222222222222222,
           "#7201a8"
          ],
          [
           0.3333333333333333,
           "#9c179e"
          ],
          [
           0.4444444444444444,
           "#bd3786"
          ],
          [
           0.5555555555555556,
           "#d8576b"
          ],
          [
           0.6666666666666666,
           "#ed7953"
          ],
          [
           0.7777777777777778,
           "#fb9f3a"
          ],
          [
           0.8888888888888888,
           "#fdca26"
          ],
          [
           1,
           "#f0f921"
          ]
         ]
        },
        "legend": {
         "itemsizing": "constant",
         "tracegroupgap": 0
        },
        "margin": {
         "t": 60
        },
        "template": {
         "data": {
          "bar": [
           {
            "error_x": {
             "color": "#2a3f5f"
            },
            "error_y": {
             "color": "#2a3f5f"
            },
            "marker": {
             "line": {
              "color": "#E5ECF6",
              "width": 0.5
             },
             "pattern": {
              "fillmode": "overlay",
              "size": 10,
              "solidity": 0.2
             }
            },
            "type": "bar"
           }
          ],
          "barpolar": [
           {
            "marker": {
             "line": {
              "color": "#E5ECF6",
              "width": 0.5
             },
             "pattern": {
              "fillmode": "overlay",
              "size": 10,
              "solidity": 0.2
             }
            },
            "type": "barpolar"
           }
          ],
          "carpet": [
           {
            "aaxis": {
             "endlinecolor": "#2a3f5f",
             "gridcolor": "white",
             "linecolor": "white",
             "minorgridcolor": "white",
             "startlinecolor": "#2a3f5f"
            },
            "baxis": {
             "endlinecolor": "#2a3f5f",
             "gridcolor": "white",
             "linecolor": "white",
             "minorgridcolor": "white",
             "startlinecolor": "#2a3f5f"
            },
            "type": "carpet"
           }
          ],
          "choropleth": [
           {
            "colorbar": {
             "outlinewidth": 0,
             "ticks": ""
            },
            "type": "choropleth"
           }
          ],
          "contour": [
           {
            "colorbar": {
             "outlinewidth": 0,
             "ticks": ""
            },
            "colorscale": [
             [
              0,
              "#0d0887"
             ],
             [
              0.1111111111111111,
              "#46039f"
             ],
             [
              0.2222222222222222,
              "#7201a8"
             ],
             [
              0.3333333333333333,
              "#9c179e"
             ],
             [
              0.4444444444444444,
              "#bd3786"
             ],
             [
              0.5555555555555556,
              "#d8576b"
             ],
             [
              0.6666666666666666,
              "#ed7953"
             ],
             [
              0.7777777777777778,
              "#fb9f3a"
             ],
             [
              0.8888888888888888,
              "#fdca26"
             ],
             [
              1,
              "#f0f921"
             ]
            ],
            "type": "contour"
           }
          ],
          "contourcarpet": [
           {
            "colorbar": {
             "outlinewidth": 0,
             "ticks": ""
            },
            "type": "contourcarpet"
           }
          ],
          "heatmap": [
           {
            "colorbar": {
             "outlinewidth": 0,
             "ticks": ""
            },
            "colorscale": [
             [
              0,
              "#0d0887"
             ],
             [
              0.1111111111111111,
              "#46039f"
             ],
             [
              0.2222222222222222,
              "#7201a8"
             ],
             [
              0.3333333333333333,
              "#9c179e"
             ],
             [
              0.4444444444444444,
              "#bd3786"
             ],
             [
              0.5555555555555556,
              "#d8576b"
             ],
             [
              0.6666666666666666,
              "#ed7953"
             ],
             [
              0.7777777777777778,
              "#fb9f3a"
             ],
             [
              0.8888888888888888,
              "#fdca26"
             ],
             [
              1,
              "#f0f921"
             ]
            ],
            "type": "heatmap"
           }
          ],
          "heatmapgl": [
           {
            "colorbar": {
             "outlinewidth": 0,
             "ticks": ""
            },
            "colorscale": [
             [
              0,
              "#0d0887"
             ],
             [
              0.1111111111111111,
              "#46039f"
             ],
             [
              0.2222222222222222,
              "#7201a8"
             ],
             [
              0.3333333333333333,
              "#9c179e"
             ],
             [
              0.4444444444444444,
              "#bd3786"
             ],
             [
              0.5555555555555556,
              "#d8576b"
             ],
             [
              0.6666666666666666,
              "#ed7953"
             ],
             [
              0.7777777777777778,
              "#fb9f3a"
             ],
             [
              0.8888888888888888,
              "#fdca26"
             ],
             [
              1,
              "#f0f921"
             ]
            ],
            "type": "heatmapgl"
           }
          ],
          "histogram": [
           {
            "marker": {
             "pattern": {
              "fillmode": "overlay",
              "size": 10,
              "solidity": 0.2
             }
            },
            "type": "histogram"
           }
          ],
          "histogram2d": [
           {
            "colorbar": {
             "outlinewidth": 0,
             "ticks": ""
            },
            "colorscale": [
             [
              0,
              "#0d0887"
             ],
             [
              0.1111111111111111,
              "#46039f"
             ],
             [
              0.2222222222222222,
              "#7201a8"
             ],
             [
              0.3333333333333333,
              "#9c179e"
             ],
             [
              0.4444444444444444,
              "#bd3786"
             ],
             [
              0.5555555555555556,
              "#d8576b"
             ],
             [
              0.6666666666666666,
              "#ed7953"
             ],
             [
              0.7777777777777778,
              "#fb9f3a"
             ],
             [
              0.8888888888888888,
              "#fdca26"
             ],
             [
              1,
              "#f0f921"
             ]
            ],
            "type": "histogram2d"
           }
          ],
          "histogram2dcontour": [
           {
            "colorbar": {
             "outlinewidth": 0,
             "ticks": ""
            },
            "colorscale": [
             [
              0,
              "#0d0887"
             ],
             [
              0.1111111111111111,
              "#46039f"
             ],
             [
              0.2222222222222222,
              "#7201a8"
             ],
             [
              0.3333333333333333,
              "#9c179e"
             ],
             [
              0.4444444444444444,
              "#bd3786"
             ],
             [
              0.5555555555555556,
              "#d8576b"
             ],
             [
              0.6666666666666666,
              "#ed7953"
             ],
             [
              0.7777777777777778,
              "#fb9f3a"
             ],
             [
              0.8888888888888888,
              "#fdca26"
             ],
             [
              1,
              "#f0f921"
             ]
            ],
            "type": "histogram2dcontour"
           }
          ],
          "mesh3d": [
           {
            "colorbar": {
             "outlinewidth": 0,
             "ticks": ""
            },
            "type": "mesh3d"
           }
          ],
          "parcoords": [
           {
            "line": {
             "colorbar": {
              "outlinewidth": 0,
              "ticks": ""
             }
            },
            "type": "parcoords"
           }
          ],
          "pie": [
           {
            "automargin": true,
            "type": "pie"
           }
          ],
          "scatter": [
           {
            "marker": {
             "colorbar": {
              "outlinewidth": 0,
              "ticks": ""
             }
            },
            "type": "scatter"
           }
          ],
          "scatter3d": [
           {
            "line": {
             "colorbar": {
              "outlinewidth": 0,
              "ticks": ""
             }
            },
            "marker": {
             "colorbar": {
              "outlinewidth": 0,
              "ticks": ""
             }
            },
            "type": "scatter3d"
           }
          ],
          "scattercarpet": [
           {
            "marker": {
             "colorbar": {
              "outlinewidth": 0,
              "ticks": ""
             }
            },
            "type": "scattercarpet"
           }
          ],
          "scattergeo": [
           {
            "marker": {
             "colorbar": {
              "outlinewidth": 0,
              "ticks": ""
             }
            },
            "type": "scattergeo"
           }
          ],
          "scattergl": [
           {
            "marker": {
             "colorbar": {
              "outlinewidth": 0,
              "ticks": ""
             }
            },
            "type": "scattergl"
           }
          ],
          "scattermapbox": [
           {
            "marker": {
             "colorbar": {
              "outlinewidth": 0,
              "ticks": ""
             }
            },
            "type": "scattermapbox"
           }
          ],
          "scatterpolar": [
           {
            "marker": {
             "colorbar": {
              "outlinewidth": 0,
              "ticks": ""
             }
            },
            "type": "scatterpolar"
           }
          ],
          "scatterpolargl": [
           {
            "marker": {
             "colorbar": {
              "outlinewidth": 0,
              "ticks": ""
             }
            },
            "type": "scatterpolargl"
           }
          ],
          "scatterternary": [
           {
            "marker": {
             "colorbar": {
              "outlinewidth": 0,
              "ticks": ""
             }
            },
            "type": "scatterternary"
           }
          ],
          "surface": [
           {
            "colorbar": {
             "outlinewidth": 0,
             "ticks": ""
            },
            "colorscale": [
             [
              0,
              "#0d0887"
             ],
             [
              0.1111111111111111,
              "#46039f"
             ],
             [
              0.2222222222222222,
              "#7201a8"
             ],
             [
              0.3333333333333333,
              "#9c179e"
             ],
             [
              0.4444444444444444,
              "#bd3786"
             ],
             [
              0.5555555555555556,
              "#d8576b"
             ],
             [
              0.6666666666666666,
              "#ed7953"
             ],
             [
              0.7777777777777778,
              "#fb9f3a"
             ],
             [
              0.8888888888888888,
              "#fdca26"
             ],
             [
              1,
              "#f0f921"
             ]
            ],
            "type": "surface"
           }
          ],
          "table": [
           {
            "cells": {
             "fill": {
              "color": "#EBF0F8"
             },
             "line": {
              "color": "white"
             }
            },
            "header": {
             "fill": {
              "color": "#C8D4E3"
             },
             "line": {
              "color": "white"
             }
            },
            "type": "table"
           }
          ]
         },
         "layout": {
          "annotationdefaults": {
           "arrowcolor": "#2a3f5f",
           "arrowhead": 0,
           "arrowwidth": 1
          },
          "autotypenumbers": "strict",
          "coloraxis": {
           "colorbar": {
            "outlinewidth": 0,
            "ticks": ""
           }
          },
          "colorscale": {
           "diverging": [
            [
             0,
             "#8e0152"
            ],
            [
             0.1,
             "#c51b7d"
            ],
            [
             0.2,
             "#de77ae"
            ],
            [
             0.3,
             "#f1b6da"
            ],
            [
             0.4,
             "#fde0ef"
            ],
            [
             0.5,
             "#f7f7f7"
            ],
            [
             0.6,
             "#e6f5d0"
            ],
            [
             0.7,
             "#b8e186"
            ],
            [
             0.8,
             "#7fbc41"
            ],
            [
             0.9,
             "#4d9221"
            ],
            [
             1,
             "#276419"
            ]
           ],
           "sequential": [
            [
             0,
             "#0d0887"
            ],
            [
             0.1111111111111111,
             "#46039f"
            ],
            [
             0.2222222222222222,
             "#7201a8"
            ],
            [
             0.3333333333333333,
             "#9c179e"
            ],
            [
             0.4444444444444444,
             "#bd3786"
            ],
            [
             0.5555555555555556,
             "#d8576b"
            ],
            [
             0.6666666666666666,
             "#ed7953"
            ],
            [
             0.7777777777777778,
             "#fb9f3a"
            ],
            [
             0.8888888888888888,
             "#fdca26"
            ],
            [
             1,
             "#f0f921"
            ]
           ],
           "sequentialminus": [
            [
             0,
             "#0d0887"
            ],
            [
             0.1111111111111111,
             "#46039f"
            ],
            [
             0.2222222222222222,
             "#7201a8"
            ],
            [
             0.3333333333333333,
             "#9c179e"
            ],
            [
             0.4444444444444444,
             "#bd3786"
            ],
            [
             0.5555555555555556,
             "#d8576b"
            ],
            [
             0.6666666666666666,
             "#ed7953"
            ],
            [
             0.7777777777777778,
             "#fb9f3a"
            ],
            [
             0.8888888888888888,
             "#fdca26"
            ],
            [
             1,
             "#f0f921"
            ]
           ]
          },
          "colorway": [
           "#636efa",
           "#EF553B",
           "#00cc96",
           "#ab63fa",
           "#FFA15A",
           "#19d3f3",
           "#FF6692",
           "#B6E880",
           "#FF97FF",
           "#FECB52"
          ],
          "font": {
           "color": "#2a3f5f"
          },
          "geo": {
           "bgcolor": "white",
           "lakecolor": "white",
           "landcolor": "#E5ECF6",
           "showlakes": true,
           "showland": true,
           "subunitcolor": "white"
          },
          "hoverlabel": {
           "align": "left"
          },
          "hovermode": "closest",
          "mapbox": {
           "style": "light"
          },
          "paper_bgcolor": "white",
          "plot_bgcolor": "#E5ECF6",
          "polar": {
           "angularaxis": {
            "gridcolor": "white",
            "linecolor": "white",
            "ticks": ""
           },
           "bgcolor": "#E5ECF6",
           "radialaxis": {
            "gridcolor": "white",
            "linecolor": "white",
            "ticks": ""
           }
          },
          "scene": {
           "xaxis": {
            "backgroundcolor": "#E5ECF6",
            "gridcolor": "white",
            "gridwidth": 2,
            "linecolor": "white",
            "showbackground": true,
            "ticks": "",
            "zerolinecolor": "white"
           },
           "yaxis": {
            "backgroundcolor": "#E5ECF6",
            "gridcolor": "white",
            "gridwidth": 2,
            "linecolor": "white",
            "showbackground": true,
            "ticks": "",
            "zerolinecolor": "white"
           },
           "zaxis": {
            "backgroundcolor": "#E5ECF6",
            "gridcolor": "white",
            "gridwidth": 2,
            "linecolor": "white",
            "showbackground": true,
            "ticks": "",
            "zerolinecolor": "white"
           }
          },
          "shapedefaults": {
           "line": {
            "color": "#2a3f5f"
           }
          },
          "ternary": {
           "aaxis": {
            "gridcolor": "white",
            "linecolor": "white",
            "ticks": ""
           },
           "baxis": {
            "gridcolor": "white",
            "linecolor": "white",
            "ticks": ""
           },
           "bgcolor": "#E5ECF6",
           "caxis": {
            "gridcolor": "white",
            "linecolor": "white",
            "ticks": ""
           }
          },
          "title": {
           "x": 0.05
          },
          "xaxis": {
           "automargin": true,
           "gridcolor": "white",
           "linecolor": "white",
           "ticks": "",
           "title": {
            "standoff": 15
           },
           "zerolinecolor": "white",
           "zerolinewidth": 2
          },
          "yaxis": {
           "automargin": true,
           "gridcolor": "white",
           "linecolor": "white",
           "ticks": "",
           "title": {
            "standoff": 15
           },
           "zerolinecolor": "white",
           "zerolinewidth": 2
          }
         }
        },
        "xaxis": {
         "anchor": "y",
         "domain": [
          0,
          1
         ],
         "title": {
          "text": "runtime"
         }
        },
        "yaxis": {
         "anchor": "x",
         "domain": [
          0,
          1
         ],
         "title": {
          "text": "production_company"
         }
        }
       }
      }
     },
     "metadata": {},
     "output_type": "display_data"
    }
   ],
   "source": [
    "\n",
    "fresh_fig = px.scatter(top_companies, x='runtime', y='production_company', size='streaming_month',size_max=100, color='tomatometer_count', hover_name='tomatometer_status')\n",
    "\n",
    "fresh_fig.show()"
   ]
  },
  {
   "cell_type": "code",
   "execution_count": 10,
   "metadata": {},
   "outputs": [
    {
     "data": {
      "application/vnd.plotly.v1+json": {
       "config": {
        "plotlyServerURL": "https://plot.ly"
       },
       "data": [
        {
         "hovertemplate": "<b>%{hovertext}</b><br><br>runtime=%{x}<br>production_company=%{y}<br>tomatometer_count=%{marker.size}<br>streaming_month=%{marker.color}<extra></extra>",
         "hovertext": [
          "Rotten",
          "Fresh",
          "Fresh",
          "Fresh",
          "Fresh",
          "Rotten",
          "Fresh",
          "Fresh",
          "Rotten",
          "Fresh",
          "Fresh",
          "Fresh",
          "Fresh",
          "Rotten",
          "Fresh",
          "Fresh",
          "Rotten",
          "Fresh",
          "Fresh",
          "Fresh"
         ],
         "legendgroup": "",
         "marker": {
          "color": [
           11,
           9,
           7,
           1,
           6,
           6,
           1,
           4,
           5,
           11,
           12,
           3,
           10,
           3,
           8,
           5,
           7,
           12,
           4,
           2
          ],
          "coloraxis": "coloraxis",
          "size": [
           149,
           142,
           24,
           54,
           27,
           149,
           51,
           28,
           10,
           18,
           11,
           15,
           22,
           83,
           10,
           28,
           24,
           18,
           124,
           5
          ],
          "sizemode": "area",
          "sizeref": 0.0149,
          "symbol": "circle"
         },
         "mode": "markers",
         "name": "",
         "orientation": "h",
         "showlegend": false,
         "type": "scatter",
         "x": [
          119,
          90,
          122,
          95,
          127,
          109,
          80,
          92,
          103,
          96,
          97,
          100,
          110,
          143,
          97,
          101,
          124,
          92,
          87,
          86
         ],
         "xaxis": "x",
         "y": [
          "20th Century Fox",
          "Sony Pictures Classics",
          "Waner Bros.",
          "Criterion Collection",
          "Disney",
          "Warner Bros. Pictures",
          "Gaumont British Distributors",
          "Columbia Pictures",
          "Excel Entertainment",
          "New Video Group",
          "United Artists",
          "Toho Company Ltd",
          "Paramount Pictures",
          "Magnolia Pictures",
          "Warner Home Video",
          "MGM Home Entertainment",
          "Fine Line Features",
          "VCI Entertainment",
          "Warner Bros. Pictures",
          "Eureka Entertainment Ltd"
         ],
         "yaxis": "y"
        }
       ],
       "layout": {
        "coloraxis": {
         "colorbar": {
          "title": {
           "text": "streaming_month"
          }
         },
         "colorscale": [
          [
           0,
           "#0d0887"
          ],
          [
           0.1111111111111111,
           "#46039f"
          ],
          [
           0.2222222222222222,
           "#7201a8"
          ],
          [
           0.3333333333333333,
           "#9c179e"
          ],
          [
           0.4444444444444444,
           "#bd3786"
          ],
          [
           0.5555555555555556,
           "#d8576b"
          ],
          [
           0.6666666666666666,
           "#ed7953"
          ],
          [
           0.7777777777777778,
           "#fb9f3a"
          ],
          [
           0.8888888888888888,
           "#fdca26"
          ],
          [
           1,
           "#f0f921"
          ]
         ]
        },
        "legend": {
         "itemsizing": "constant",
         "tracegroupgap": 0
        },
        "margin": {
         "t": 60
        },
        "template": {
         "data": {
          "bar": [
           {
            "error_x": {
             "color": "#2a3f5f"
            },
            "error_y": {
             "color": "#2a3f5f"
            },
            "marker": {
             "line": {
              "color": "#E5ECF6",
              "width": 0.5
             },
             "pattern": {
              "fillmode": "overlay",
              "size": 10,
              "solidity": 0.2
             }
            },
            "type": "bar"
           }
          ],
          "barpolar": [
           {
            "marker": {
             "line": {
              "color": "#E5ECF6",
              "width": 0.5
             },
             "pattern": {
              "fillmode": "overlay",
              "size": 10,
              "solidity": 0.2
             }
            },
            "type": "barpolar"
           }
          ],
          "carpet": [
           {
            "aaxis": {
             "endlinecolor": "#2a3f5f",
             "gridcolor": "white",
             "linecolor": "white",
             "minorgridcolor": "white",
             "startlinecolor": "#2a3f5f"
            },
            "baxis": {
             "endlinecolor": "#2a3f5f",
             "gridcolor": "white",
             "linecolor": "white",
             "minorgridcolor": "white",
             "startlinecolor": "#2a3f5f"
            },
            "type": "carpet"
           }
          ],
          "choropleth": [
           {
            "colorbar": {
             "outlinewidth": 0,
             "ticks": ""
            },
            "type": "choropleth"
           }
          ],
          "contour": [
           {
            "colorbar": {
             "outlinewidth": 0,
             "ticks": ""
            },
            "colorscale": [
             [
              0,
              "#0d0887"
             ],
             [
              0.1111111111111111,
              "#46039f"
             ],
             [
              0.2222222222222222,
              "#7201a8"
             ],
             [
              0.3333333333333333,
              "#9c179e"
             ],
             [
              0.4444444444444444,
              "#bd3786"
             ],
             [
              0.5555555555555556,
              "#d8576b"
             ],
             [
              0.6666666666666666,
              "#ed7953"
             ],
             [
              0.7777777777777778,
              "#fb9f3a"
             ],
             [
              0.8888888888888888,
              "#fdca26"
             ],
             [
              1,
              "#f0f921"
             ]
            ],
            "type": "contour"
           }
          ],
          "contourcarpet": [
           {
            "colorbar": {
             "outlinewidth": 0,
             "ticks": ""
            },
            "type": "contourcarpet"
           }
          ],
          "heatmap": [
           {
            "colorbar": {
             "outlinewidth": 0,
             "ticks": ""
            },
            "colorscale": [
             [
              0,
              "#0d0887"
             ],
             [
              0.1111111111111111,
              "#46039f"
             ],
             [
              0.2222222222222222,
              "#7201a8"
             ],
             [
              0.3333333333333333,
              "#9c179e"
             ],
             [
              0.4444444444444444,
              "#bd3786"
             ],
             [
              0.5555555555555556,
              "#d8576b"
             ],
             [
              0.6666666666666666,
              "#ed7953"
             ],
             [
              0.7777777777777778,
              "#fb9f3a"
             ],
             [
              0.8888888888888888,
              "#fdca26"
             ],
             [
              1,
              "#f0f921"
             ]
            ],
            "type": "heatmap"
           }
          ],
          "heatmapgl": [
           {
            "colorbar": {
             "outlinewidth": 0,
             "ticks": ""
            },
            "colorscale": [
             [
              0,
              "#0d0887"
             ],
             [
              0.1111111111111111,
              "#46039f"
             ],
             [
              0.2222222222222222,
              "#7201a8"
             ],
             [
              0.3333333333333333,
              "#9c179e"
             ],
             [
              0.4444444444444444,
              "#bd3786"
             ],
             [
              0.5555555555555556,
              "#d8576b"
             ],
             [
              0.6666666666666666,
              "#ed7953"
             ],
             [
              0.7777777777777778,
              "#fb9f3a"
             ],
             [
              0.8888888888888888,
              "#fdca26"
             ],
             [
              1,
              "#f0f921"
             ]
            ],
            "type": "heatmapgl"
           }
          ],
          "histogram": [
           {
            "marker": {
             "pattern": {
              "fillmode": "overlay",
              "size": 10,
              "solidity": 0.2
             }
            },
            "type": "histogram"
           }
          ],
          "histogram2d": [
           {
            "colorbar": {
             "outlinewidth": 0,
             "ticks": ""
            },
            "colorscale": [
             [
              0,
              "#0d0887"
             ],
             [
              0.1111111111111111,
              "#46039f"
             ],
             [
              0.2222222222222222,
              "#7201a8"
             ],
             [
              0.3333333333333333,
              "#9c179e"
             ],
             [
              0.4444444444444444,
              "#bd3786"
             ],
             [
              0.5555555555555556,
              "#d8576b"
             ],
             [
              0.6666666666666666,
              "#ed7953"
             ],
             [
              0.7777777777777778,
              "#fb9f3a"
             ],
             [
              0.8888888888888888,
              "#fdca26"
             ],
             [
              1,
              "#f0f921"
             ]
            ],
            "type": "histogram2d"
           }
          ],
          "histogram2dcontour": [
           {
            "colorbar": {
             "outlinewidth": 0,
             "ticks": ""
            },
            "colorscale": [
             [
              0,
              "#0d0887"
             ],
             [
              0.1111111111111111,
              "#46039f"
             ],
             [
              0.2222222222222222,
              "#7201a8"
             ],
             [
              0.3333333333333333,
              "#9c179e"
             ],
             [
              0.4444444444444444,
              "#bd3786"
             ],
             [
              0.5555555555555556,
              "#d8576b"
             ],
             [
              0.6666666666666666,
              "#ed7953"
             ],
             [
              0.7777777777777778,
              "#fb9f3a"
             ],
             [
              0.8888888888888888,
              "#fdca26"
             ],
             [
              1,
              "#f0f921"
             ]
            ],
            "type": "histogram2dcontour"
           }
          ],
          "mesh3d": [
           {
            "colorbar": {
             "outlinewidth": 0,
             "ticks": ""
            },
            "type": "mesh3d"
           }
          ],
          "parcoords": [
           {
            "line": {
             "colorbar": {
              "outlinewidth": 0,
              "ticks": ""
             }
            },
            "type": "parcoords"
           }
          ],
          "pie": [
           {
            "automargin": true,
            "type": "pie"
           }
          ],
          "scatter": [
           {
            "marker": {
             "colorbar": {
              "outlinewidth": 0,
              "ticks": ""
             }
            },
            "type": "scatter"
           }
          ],
          "scatter3d": [
           {
            "line": {
             "colorbar": {
              "outlinewidth": 0,
              "ticks": ""
             }
            },
            "marker": {
             "colorbar": {
              "outlinewidth": 0,
              "ticks": ""
             }
            },
            "type": "scatter3d"
           }
          ],
          "scattercarpet": [
           {
            "marker": {
             "colorbar": {
              "outlinewidth": 0,
              "ticks": ""
             }
            },
            "type": "scattercarpet"
           }
          ],
          "scattergeo": [
           {
            "marker": {
             "colorbar": {
              "outlinewidth": 0,
              "ticks": ""
             }
            },
            "type": "scattergeo"
           }
          ],
          "scattergl": [
           {
            "marker": {
             "colorbar": {
              "outlinewidth": 0,
              "ticks": ""
             }
            },
            "type": "scattergl"
           }
          ],
          "scattermapbox": [
           {
            "marker": {
             "colorbar": {
              "outlinewidth": 0,
              "ticks": ""
             }
            },
            "type": "scattermapbox"
           }
          ],
          "scatterpolar": [
           {
            "marker": {
             "colorbar": {
              "outlinewidth": 0,
              "ticks": ""
             }
            },
            "type": "scatterpolar"
           }
          ],
          "scatterpolargl": [
           {
            "marker": {
             "colorbar": {
              "outlinewidth": 0,
              "ticks": ""
             }
            },
            "type": "scatterpolargl"
           }
          ],
          "scatterternary": [
           {
            "marker": {
             "colorbar": {
              "outlinewidth": 0,
              "ticks": ""
             }
            },
            "type": "scatterternary"
           }
          ],
          "surface": [
           {
            "colorbar": {
             "outlinewidth": 0,
             "ticks": ""
            },
            "colorscale": [
             [
              0,
              "#0d0887"
             ],
             [
              0.1111111111111111,
              "#46039f"
             ],
             [
              0.2222222222222222,
              "#7201a8"
             ],
             [
              0.3333333333333333,
              "#9c179e"
             ],
             [
              0.4444444444444444,
              "#bd3786"
             ],
             [
              0.5555555555555556,
              "#d8576b"
             ],
             [
              0.6666666666666666,
              "#ed7953"
             ],
             [
              0.7777777777777778,
              "#fb9f3a"
             ],
             [
              0.8888888888888888,
              "#fdca26"
             ],
             [
              1,
              "#f0f921"
             ]
            ],
            "type": "surface"
           }
          ],
          "table": [
           {
            "cells": {
             "fill": {
              "color": "#EBF0F8"
             },
             "line": {
              "color": "white"
             }
            },
            "header": {
             "fill": {
              "color": "#C8D4E3"
             },
             "line": {
              "color": "white"
             }
            },
            "type": "table"
           }
          ]
         },
         "layout": {
          "annotationdefaults": {
           "arrowcolor": "#2a3f5f",
           "arrowhead": 0,
           "arrowwidth": 1
          },
          "autotypenumbers": "strict",
          "coloraxis": {
           "colorbar": {
            "outlinewidth": 0,
            "ticks": ""
           }
          },
          "colorscale": {
           "diverging": [
            [
             0,
             "#8e0152"
            ],
            [
             0.1,
             "#c51b7d"
            ],
            [
             0.2,
             "#de77ae"
            ],
            [
             0.3,
             "#f1b6da"
            ],
            [
             0.4,
             "#fde0ef"
            ],
            [
             0.5,
             "#f7f7f7"
            ],
            [
             0.6,
             "#e6f5d0"
            ],
            [
             0.7,
             "#b8e186"
            ],
            [
             0.8,
             "#7fbc41"
            ],
            [
             0.9,
             "#4d9221"
            ],
            [
             1,
             "#276419"
            ]
           ],
           "sequential": [
            [
             0,
             "#0d0887"
            ],
            [
             0.1111111111111111,
             "#46039f"
            ],
            [
             0.2222222222222222,
             "#7201a8"
            ],
            [
             0.3333333333333333,
             "#9c179e"
            ],
            [
             0.4444444444444444,
             "#bd3786"
            ],
            [
             0.5555555555555556,
             "#d8576b"
            ],
            [
             0.6666666666666666,
             "#ed7953"
            ],
            [
             0.7777777777777778,
             "#fb9f3a"
            ],
            [
             0.8888888888888888,
             "#fdca26"
            ],
            [
             1,
             "#f0f921"
            ]
           ],
           "sequentialminus": [
            [
             0,
             "#0d0887"
            ],
            [
             0.1111111111111111,
             "#46039f"
            ],
            [
             0.2222222222222222,
             "#7201a8"
            ],
            [
             0.3333333333333333,
             "#9c179e"
            ],
            [
             0.4444444444444444,
             "#bd3786"
            ],
            [
             0.5555555555555556,
             "#d8576b"
            ],
            [
             0.6666666666666666,
             "#ed7953"
            ],
            [
             0.7777777777777778,
             "#fb9f3a"
            ],
            [
             0.8888888888888888,
             "#fdca26"
            ],
            [
             1,
             "#f0f921"
            ]
           ]
          },
          "colorway": [
           "#636efa",
           "#EF553B",
           "#00cc96",
           "#ab63fa",
           "#FFA15A",
           "#19d3f3",
           "#FF6692",
           "#B6E880",
           "#FF97FF",
           "#FECB52"
          ],
          "font": {
           "color": "#2a3f5f"
          },
          "geo": {
           "bgcolor": "white",
           "lakecolor": "white",
           "landcolor": "#E5ECF6",
           "showlakes": true,
           "showland": true,
           "subunitcolor": "white"
          },
          "hoverlabel": {
           "align": "left"
          },
          "hovermode": "closest",
          "mapbox": {
           "style": "light"
          },
          "paper_bgcolor": "white",
          "plot_bgcolor": "#E5ECF6",
          "polar": {
           "angularaxis": {
            "gridcolor": "white",
            "linecolor": "white",
            "ticks": ""
           },
           "bgcolor": "#E5ECF6",
           "radialaxis": {
            "gridcolor": "white",
            "linecolor": "white",
            "ticks": ""
           }
          },
          "scene": {
           "xaxis": {
            "backgroundcolor": "#E5ECF6",
            "gridcolor": "white",
            "gridwidth": 2,
            "linecolor": "white",
            "showbackground": true,
            "ticks": "",
            "zerolinecolor": "white"
           },
           "yaxis": {
            "backgroundcolor": "#E5ECF6",
            "gridcolor": "white",
            "gridwidth": 2,
            "linecolor": "white",
            "showbackground": true,
            "ticks": "",
            "zerolinecolor": "white"
           },
           "zaxis": {
            "backgroundcolor": "#E5ECF6",
            "gridcolor": "white",
            "gridwidth": 2,
            "linecolor": "white",
            "showbackground": true,
            "ticks": "",
            "zerolinecolor": "white"
           }
          },
          "shapedefaults": {
           "line": {
            "color": "#2a3f5f"
           }
          },
          "ternary": {
           "aaxis": {
            "gridcolor": "white",
            "linecolor": "white",
            "ticks": ""
           },
           "baxis": {
            "gridcolor": "white",
            "linecolor": "white",
            "ticks": ""
           },
           "bgcolor": "#E5ECF6",
           "caxis": {
            "gridcolor": "white",
            "linecolor": "white",
            "ticks": ""
           }
          },
          "title": {
           "x": 0.05
          },
          "xaxis": {
           "automargin": true,
           "gridcolor": "white",
           "linecolor": "white",
           "ticks": "",
           "title": {
            "standoff": 15
           },
           "zerolinecolor": "white",
           "zerolinewidth": 2
          },
          "yaxis": {
           "automargin": true,
           "gridcolor": "white",
           "linecolor": "white",
           "ticks": "",
           "title": {
            "standoff": 15
           },
           "zerolinecolor": "white",
           "zerolinewidth": 2
          }
         }
        },
        "xaxis": {
         "anchor": "y",
         "domain": [
          0,
          1
         ],
         "title": {
          "text": "runtime"
         }
        },
        "yaxis": {
         "anchor": "x",
         "domain": [
          0,
          1
         ],
         "title": {
          "text": "production_company"
         }
        }
       }
      }
     },
     "metadata": {},
     "output_type": "display_data"
    }
   ],
   "source": [
    "\n",
    "fresh_fig2 = px.scatter(top_companies, x='runtime', y='production_company', size='tomatometer_count',size_max=100, color='streaming_month', hover_name='tomatometer_status')\n",
    "\n",
    "fresh_fig2.show()"
   ]
  },
  {
   "cell_type": "code",
   "execution_count": 9,
   "metadata": {},
   "outputs": [
    {
     "data": {
      "application/vnd.plotly.v1+json": {
       "config": {
        "plotlyServerURL": "https://plot.ly"
       },
       "data": [
        {
         "hovertemplate": "<b>%{hovertext}</b><br><br>runtime=%{x}<br>tomatometer_rating=%{y}<br>tomatometer_count=%{marker.size}<br>audience_count=%{marker.color}<extra></extra>",
         "hovertext": [
          "20th Century Fox",
          "Sony Pictures Classics",
          "Waner Bros.",
          "Criterion Collection",
          "Disney",
          "Warner Bros. Pictures",
          "Gaumont British Distributors",
          "Columbia Pictures",
          "Excel Entertainment",
          "New Video Group",
          "United Artists",
          "Toho Company Ltd",
          "Paramount Pictures",
          "Magnolia Pictures",
          "Warner Home Video",
          "MGM Home Entertainment",
          "Fine Line Features",
          "VCI Entertainment",
          "Warner Bros. Pictures",
          "Eureka Entertainment Ltd"
         ],
         "legendgroup": "",
         "marker": {
          "color": [
           254421,
           11574,
           14684,
           105386,
           68918,
           411140,
           23890,
           9243,
           4819,
           486,
           457,
           21475,
           20821,
           25944,
           335,
           10563,
           1935,
           286,
           6711,
           1046
          ],
          "coloraxis": "coloraxis",
          "size": [
           149,
           142,
           24,
           54,
           27,
           149,
           51,
           28,
           10,
           18,
           11,
           15,
           22,
           83,
           10,
           28,
           24,
           18,
           124,
           5
          ],
          "sizemode": "area",
          "sizeref": 0.0149,
          "symbol": "circle"
         },
         "mode": "markers",
         "name": "",
         "orientation": "v",
         "showlegend": false,
         "type": "scatter",
         "x": [
          119,
          90,
          122,
          95,
          127,
          109,
          80,
          92,
          103,
          96,
          97,
          100,
          110,
          143,
          97,
          101,
          124,
          92,
          87,
          86
         ],
         "xaxis": "x",
         "y": [
          49,
          87,
          67,
          100,
          89,
          8,
          96,
          96,
          20,
          94,
          82,
          80,
          91,
          25,
          100,
          96,
          4,
          100,
          69,
          80
         ],
         "yaxis": "y"
        }
       ],
       "layout": {
        "coloraxis": {
         "colorbar": {
          "title": {
           "text": "audience_count"
          }
         },
         "colorscale": [
          [
           0,
           "#0d0887"
          ],
          [
           0.1111111111111111,
           "#46039f"
          ],
          [
           0.2222222222222222,
           "#7201a8"
          ],
          [
           0.3333333333333333,
           "#9c179e"
          ],
          [
           0.4444444444444444,
           "#bd3786"
          ],
          [
           0.5555555555555556,
           "#d8576b"
          ],
          [
           0.6666666666666666,
           "#ed7953"
          ],
          [
           0.7777777777777778,
           "#fb9f3a"
          ],
          [
           0.8888888888888888,
           "#fdca26"
          ],
          [
           1,
           "#f0f921"
          ]
         ]
        },
        "legend": {
         "itemsizing": "constant",
         "tracegroupgap": 0
        },
        "margin": {
         "t": 60
        },
        "template": {
         "data": {
          "bar": [
           {
            "error_x": {
             "color": "#2a3f5f"
            },
            "error_y": {
             "color": "#2a3f5f"
            },
            "marker": {
             "line": {
              "color": "#E5ECF6",
              "width": 0.5
             },
             "pattern": {
              "fillmode": "overlay",
              "size": 10,
              "solidity": 0.2
             }
            },
            "type": "bar"
           }
          ],
          "barpolar": [
           {
            "marker": {
             "line": {
              "color": "#E5ECF6",
              "width": 0.5
             },
             "pattern": {
              "fillmode": "overlay",
              "size": 10,
              "solidity": 0.2
             }
            },
            "type": "barpolar"
           }
          ],
          "carpet": [
           {
            "aaxis": {
             "endlinecolor": "#2a3f5f",
             "gridcolor": "white",
             "linecolor": "white",
             "minorgridcolor": "white",
             "startlinecolor": "#2a3f5f"
            },
            "baxis": {
             "endlinecolor": "#2a3f5f",
             "gridcolor": "white",
             "linecolor": "white",
             "minorgridcolor": "white",
             "startlinecolor": "#2a3f5f"
            },
            "type": "carpet"
           }
          ],
          "choropleth": [
           {
            "colorbar": {
             "outlinewidth": 0,
             "ticks": ""
            },
            "type": "choropleth"
           }
          ],
          "contour": [
           {
            "colorbar": {
             "outlinewidth": 0,
             "ticks": ""
            },
            "colorscale": [
             [
              0,
              "#0d0887"
             ],
             [
              0.1111111111111111,
              "#46039f"
             ],
             [
              0.2222222222222222,
              "#7201a8"
             ],
             [
              0.3333333333333333,
              "#9c179e"
             ],
             [
              0.4444444444444444,
              "#bd3786"
             ],
             [
              0.5555555555555556,
              "#d8576b"
             ],
             [
              0.6666666666666666,
              "#ed7953"
             ],
             [
              0.7777777777777778,
              "#fb9f3a"
             ],
             [
              0.8888888888888888,
              "#fdca26"
             ],
             [
              1,
              "#f0f921"
             ]
            ],
            "type": "contour"
           }
          ],
          "contourcarpet": [
           {
            "colorbar": {
             "outlinewidth": 0,
             "ticks": ""
            },
            "type": "contourcarpet"
           }
          ],
          "heatmap": [
           {
            "colorbar": {
             "outlinewidth": 0,
             "ticks": ""
            },
            "colorscale": [
             [
              0,
              "#0d0887"
             ],
             [
              0.1111111111111111,
              "#46039f"
             ],
             [
              0.2222222222222222,
              "#7201a8"
             ],
             [
              0.3333333333333333,
              "#9c179e"
             ],
             [
              0.4444444444444444,
              "#bd3786"
             ],
             [
              0.5555555555555556,
              "#d8576b"
             ],
             [
              0.6666666666666666,
              "#ed7953"
             ],
             [
              0.7777777777777778,
              "#fb9f3a"
             ],
             [
              0.8888888888888888,
              "#fdca26"
             ],
             [
              1,
              "#f0f921"
             ]
            ],
            "type": "heatmap"
           }
          ],
          "heatmapgl": [
           {
            "colorbar": {
             "outlinewidth": 0,
             "ticks": ""
            },
            "colorscale": [
             [
              0,
              "#0d0887"
             ],
             [
              0.1111111111111111,
              "#46039f"
             ],
             [
              0.2222222222222222,
              "#7201a8"
             ],
             [
              0.3333333333333333,
              "#9c179e"
             ],
             [
              0.4444444444444444,
              "#bd3786"
             ],
             [
              0.5555555555555556,
              "#d8576b"
             ],
             [
              0.6666666666666666,
              "#ed7953"
             ],
             [
              0.7777777777777778,
              "#fb9f3a"
             ],
             [
              0.8888888888888888,
              "#fdca26"
             ],
             [
              1,
              "#f0f921"
             ]
            ],
            "type": "heatmapgl"
           }
          ],
          "histogram": [
           {
            "marker": {
             "pattern": {
              "fillmode": "overlay",
              "size": 10,
              "solidity": 0.2
             }
            },
            "type": "histogram"
           }
          ],
          "histogram2d": [
           {
            "colorbar": {
             "outlinewidth": 0,
             "ticks": ""
            },
            "colorscale": [
             [
              0,
              "#0d0887"
             ],
             [
              0.1111111111111111,
              "#46039f"
             ],
             [
              0.2222222222222222,
              "#7201a8"
             ],
             [
              0.3333333333333333,
              "#9c179e"
             ],
             [
              0.4444444444444444,
              "#bd3786"
             ],
             [
              0.5555555555555556,
              "#d8576b"
             ],
             [
              0.6666666666666666,
              "#ed7953"
             ],
             [
              0.7777777777777778,
              "#fb9f3a"
             ],
             [
              0.8888888888888888,
              "#fdca26"
             ],
             [
              1,
              "#f0f921"
             ]
            ],
            "type": "histogram2d"
           }
          ],
          "histogram2dcontour": [
           {
            "colorbar": {
             "outlinewidth": 0,
             "ticks": ""
            },
            "colorscale": [
             [
              0,
              "#0d0887"
             ],
             [
              0.1111111111111111,
              "#46039f"
             ],
             [
              0.2222222222222222,
              "#7201a8"
             ],
             [
              0.3333333333333333,
              "#9c179e"
             ],
             [
              0.4444444444444444,
              "#bd3786"
             ],
             [
              0.5555555555555556,
              "#d8576b"
             ],
             [
              0.6666666666666666,
              "#ed7953"
             ],
             [
              0.7777777777777778,
              "#fb9f3a"
             ],
             [
              0.8888888888888888,
              "#fdca26"
             ],
             [
              1,
              "#f0f921"
             ]
            ],
            "type": "histogram2dcontour"
           }
          ],
          "mesh3d": [
           {
            "colorbar": {
             "outlinewidth": 0,
             "ticks": ""
            },
            "type": "mesh3d"
           }
          ],
          "parcoords": [
           {
            "line": {
             "colorbar": {
              "outlinewidth": 0,
              "ticks": ""
             }
            },
            "type": "parcoords"
           }
          ],
          "pie": [
           {
            "automargin": true,
            "type": "pie"
           }
          ],
          "scatter": [
           {
            "marker": {
             "colorbar": {
              "outlinewidth": 0,
              "ticks": ""
             }
            },
            "type": "scatter"
           }
          ],
          "scatter3d": [
           {
            "line": {
             "colorbar": {
              "outlinewidth": 0,
              "ticks": ""
             }
            },
            "marker": {
             "colorbar": {
              "outlinewidth": 0,
              "ticks": ""
             }
            },
            "type": "scatter3d"
           }
          ],
          "scattercarpet": [
           {
            "marker": {
             "colorbar": {
              "outlinewidth": 0,
              "ticks": ""
             }
            },
            "type": "scattercarpet"
           }
          ],
          "scattergeo": [
           {
            "marker": {
             "colorbar": {
              "outlinewidth": 0,
              "ticks": ""
             }
            },
            "type": "scattergeo"
           }
          ],
          "scattergl": [
           {
            "marker": {
             "colorbar": {
              "outlinewidth": 0,
              "ticks": ""
             }
            },
            "type": "scattergl"
           }
          ],
          "scattermapbox": [
           {
            "marker": {
             "colorbar": {
              "outlinewidth": 0,
              "ticks": ""
             }
            },
            "type": "scattermapbox"
           }
          ],
          "scatterpolar": [
           {
            "marker": {
             "colorbar": {
              "outlinewidth": 0,
              "ticks": ""
             }
            },
            "type": "scatterpolar"
           }
          ],
          "scatterpolargl": [
           {
            "marker": {
             "colorbar": {
              "outlinewidth": 0,
              "ticks": ""
             }
            },
            "type": "scatterpolargl"
           }
          ],
          "scatterternary": [
           {
            "marker": {
             "colorbar": {
              "outlinewidth": 0,
              "ticks": ""
             }
            },
            "type": "scatterternary"
           }
          ],
          "surface": [
           {
            "colorbar": {
             "outlinewidth": 0,
             "ticks": ""
            },
            "colorscale": [
             [
              0,
              "#0d0887"
             ],
             [
              0.1111111111111111,
              "#46039f"
             ],
             [
              0.2222222222222222,
              "#7201a8"
             ],
             [
              0.3333333333333333,
              "#9c179e"
             ],
             [
              0.4444444444444444,
              "#bd3786"
             ],
             [
              0.5555555555555556,
              "#d8576b"
             ],
             [
              0.6666666666666666,
              "#ed7953"
             ],
             [
              0.7777777777777778,
              "#fb9f3a"
             ],
             [
              0.8888888888888888,
              "#fdca26"
             ],
             [
              1,
              "#f0f921"
             ]
            ],
            "type": "surface"
           }
          ],
          "table": [
           {
            "cells": {
             "fill": {
              "color": "#EBF0F8"
             },
             "line": {
              "color": "white"
             }
            },
            "header": {
             "fill": {
              "color": "#C8D4E3"
             },
             "line": {
              "color": "white"
             }
            },
            "type": "table"
           }
          ]
         },
         "layout": {
          "annotationdefaults": {
           "arrowcolor": "#2a3f5f",
           "arrowhead": 0,
           "arrowwidth": 1
          },
          "autotypenumbers": "strict",
          "coloraxis": {
           "colorbar": {
            "outlinewidth": 0,
            "ticks": ""
           }
          },
          "colorscale": {
           "diverging": [
            [
             0,
             "#8e0152"
            ],
            [
             0.1,
             "#c51b7d"
            ],
            [
             0.2,
             "#de77ae"
            ],
            [
             0.3,
             "#f1b6da"
            ],
            [
             0.4,
             "#fde0ef"
            ],
            [
             0.5,
             "#f7f7f7"
            ],
            [
             0.6,
             "#e6f5d0"
            ],
            [
             0.7,
             "#b8e186"
            ],
            [
             0.8,
             "#7fbc41"
            ],
            [
             0.9,
             "#4d9221"
            ],
            [
             1,
             "#276419"
            ]
           ],
           "sequential": [
            [
             0,
             "#0d0887"
            ],
            [
             0.1111111111111111,
             "#46039f"
            ],
            [
             0.2222222222222222,
             "#7201a8"
            ],
            [
             0.3333333333333333,
             "#9c179e"
            ],
            [
             0.4444444444444444,
             "#bd3786"
            ],
            [
             0.5555555555555556,
             "#d8576b"
            ],
            [
             0.6666666666666666,
             "#ed7953"
            ],
            [
             0.7777777777777778,
             "#fb9f3a"
            ],
            [
             0.8888888888888888,
             "#fdca26"
            ],
            [
             1,
             "#f0f921"
            ]
           ],
           "sequentialminus": [
            [
             0,
             "#0d0887"
            ],
            [
             0.1111111111111111,
             "#46039f"
            ],
            [
             0.2222222222222222,
             "#7201a8"
            ],
            [
             0.3333333333333333,
             "#9c179e"
            ],
            [
             0.4444444444444444,
             "#bd3786"
            ],
            [
             0.5555555555555556,
             "#d8576b"
            ],
            [
             0.6666666666666666,
             "#ed7953"
            ],
            [
             0.7777777777777778,
             "#fb9f3a"
            ],
            [
             0.8888888888888888,
             "#fdca26"
            ],
            [
             1,
             "#f0f921"
            ]
           ]
          },
          "colorway": [
           "#636efa",
           "#EF553B",
           "#00cc96",
           "#ab63fa",
           "#FFA15A",
           "#19d3f3",
           "#FF6692",
           "#B6E880",
           "#FF97FF",
           "#FECB52"
          ],
          "font": {
           "color": "#2a3f5f"
          },
          "geo": {
           "bgcolor": "white",
           "lakecolor": "white",
           "landcolor": "#E5ECF6",
           "showlakes": true,
           "showland": true,
           "subunitcolor": "white"
          },
          "hoverlabel": {
           "align": "left"
          },
          "hovermode": "closest",
          "mapbox": {
           "style": "light"
          },
          "paper_bgcolor": "white",
          "plot_bgcolor": "#E5ECF6",
          "polar": {
           "angularaxis": {
            "gridcolor": "white",
            "linecolor": "white",
            "ticks": ""
           },
           "bgcolor": "#E5ECF6",
           "radialaxis": {
            "gridcolor": "white",
            "linecolor": "white",
            "ticks": ""
           }
          },
          "scene": {
           "xaxis": {
            "backgroundcolor": "#E5ECF6",
            "gridcolor": "white",
            "gridwidth": 2,
            "linecolor": "white",
            "showbackground": true,
            "ticks": "",
            "zerolinecolor": "white"
           },
           "yaxis": {
            "backgroundcolor": "#E5ECF6",
            "gridcolor": "white",
            "gridwidth": 2,
            "linecolor": "white",
            "showbackground": true,
            "ticks": "",
            "zerolinecolor": "white"
           },
           "zaxis": {
            "backgroundcolor": "#E5ECF6",
            "gridcolor": "white",
            "gridwidth": 2,
            "linecolor": "white",
            "showbackground": true,
            "ticks": "",
            "zerolinecolor": "white"
           }
          },
          "shapedefaults": {
           "line": {
            "color": "#2a3f5f"
           }
          },
          "ternary": {
           "aaxis": {
            "gridcolor": "white",
            "linecolor": "white",
            "ticks": ""
           },
           "baxis": {
            "gridcolor": "white",
            "linecolor": "white",
            "ticks": ""
           },
           "bgcolor": "#E5ECF6",
           "caxis": {
            "gridcolor": "white",
            "linecolor": "white",
            "ticks": ""
           }
          },
          "title": {
           "x": 0.05
          },
          "xaxis": {
           "automargin": true,
           "gridcolor": "white",
           "linecolor": "white",
           "ticks": "",
           "title": {
            "standoff": 15
           },
           "zerolinecolor": "white",
           "zerolinewidth": 2
          },
          "yaxis": {
           "automargin": true,
           "gridcolor": "white",
           "linecolor": "white",
           "ticks": "",
           "title": {
            "standoff": 15
           },
           "zerolinecolor": "white",
           "zerolinewidth": 2
          }
         }
        },
        "xaxis": {
         "anchor": "y",
         "domain": [
          0,
          1
         ],
         "title": {
          "text": "runtime"
         },
         "type": "log"
        },
        "yaxis": {
         "anchor": "x",
         "domain": [
          0,
          1
         ],
         "title": {
          "text": "tomatometer_rating"
         }
        }
       }
      }
     },
     "metadata": {},
     "output_type": "display_data"
    }
   ],
   "source": [
    "production_fig2 = px.scatter(top_companies, x='runtime', y='tomatometer_rating',log_x=True, size='tomatometer_count',size_max=100, color='audience_count',hover_name='production_company')\n",
    "\n",
    "production_fig2.show()"
   ]
  },
  {
   "cell_type": "code",
   "execution_count": 7,
   "metadata": {},
   "outputs": [
    {
     "data": {
      "application/vnd.plotly.v1+json": {
       "config": {
        "plotlyServerURL": "https://plot.ly"
       },
       "data": [
        {
         "hovertemplate": "<b>%{hovertext}</b><br><br>audience_rating=%{x}<br>tomatometer_rating=%{y}<br>tomatometer_count=%{marker.size}<br>audience_count=%{marker.color}<extra></extra>",
         "hovertext": [
          "Rotten",
          "Fresh",
          "Fresh",
          "Fresh",
          "Fresh",
          "Rotten",
          "Fresh",
          "Fresh",
          "Rotten",
          "Fresh",
          "Fresh",
          "Fresh",
          "Fresh",
          "Rotten",
          "Fresh",
          "Fresh",
          "Rotten",
          "Fresh",
          "Fresh",
          "Fresh"
         ],
         "legendgroup": "",
         "marker": {
          "color": [
           254421,
           11574,
           14684,
           105386,
           68918,
           411140,
           23890,
           9243,
           4819,
           486,
           457,
           21475,
           20821,
           25944,
           335,
           10563,
           1935,
           286,
           6711,
           1046
          ],
          "coloraxis": "coloraxis",
          "size": [
           149,
           142,
           24,
           54,
           27,
           149,
           51,
           28,
           10,
           18,
           11,
           15,
           22,
           83,
           10,
           28,
           24,
           18,
           124,
           5
          ],
          "sizemode": "area",
          "sizeref": 0.0149,
          "symbol": "circle"
         },
         "mode": "markers",
         "name": "",
         "orientation": "v",
         "showlegend": false,
         "type": "scatter",
         "x": [
          53,
          64,
          53,
          97,
          74,
          37,
          86,
          79,
          87,
          80,
          40,
          66,
          79,
          64,
          86,
          86,
          35,
          86,
          57,
          82
         ],
         "xaxis": "x",
         "y": [
          49,
          87,
          67,
          100,
          89,
          8,
          96,
          96,
          20,
          94,
          82,
          80,
          91,
          25,
          100,
          96,
          4,
          100,
          69,
          80
         ],
         "yaxis": "y"
        }
       ],
       "layout": {
        "coloraxis": {
         "colorbar": {
          "title": {
           "text": "audience_count"
          }
         },
         "colorscale": [
          [
           0,
           "#0d0887"
          ],
          [
           0.1111111111111111,
           "#46039f"
          ],
          [
           0.2222222222222222,
           "#7201a8"
          ],
          [
           0.3333333333333333,
           "#9c179e"
          ],
          [
           0.4444444444444444,
           "#bd3786"
          ],
          [
           0.5555555555555556,
           "#d8576b"
          ],
          [
           0.6666666666666666,
           "#ed7953"
          ],
          [
           0.7777777777777778,
           "#fb9f3a"
          ],
          [
           0.8888888888888888,
           "#fdca26"
          ],
          [
           1,
           "#f0f921"
          ]
         ]
        },
        "legend": {
         "itemsizing": "constant",
         "tracegroupgap": 0
        },
        "margin": {
         "t": 60
        },
        "template": {
         "data": {
          "bar": [
           {
            "error_x": {
             "color": "#2a3f5f"
            },
            "error_y": {
             "color": "#2a3f5f"
            },
            "marker": {
             "line": {
              "color": "#E5ECF6",
              "width": 0.5
             },
             "pattern": {
              "fillmode": "overlay",
              "size": 10,
              "solidity": 0.2
             }
            },
            "type": "bar"
           }
          ],
          "barpolar": [
           {
            "marker": {
             "line": {
              "color": "#E5ECF6",
              "width": 0.5
             },
             "pattern": {
              "fillmode": "overlay",
              "size": 10,
              "solidity": 0.2
             }
            },
            "type": "barpolar"
           }
          ],
          "carpet": [
           {
            "aaxis": {
             "endlinecolor": "#2a3f5f",
             "gridcolor": "white",
             "linecolor": "white",
             "minorgridcolor": "white",
             "startlinecolor": "#2a3f5f"
            },
            "baxis": {
             "endlinecolor": "#2a3f5f",
             "gridcolor": "white",
             "linecolor": "white",
             "minorgridcolor": "white",
             "startlinecolor": "#2a3f5f"
            },
            "type": "carpet"
           }
          ],
          "choropleth": [
           {
            "colorbar": {
             "outlinewidth": 0,
             "ticks": ""
            },
            "type": "choropleth"
           }
          ],
          "contour": [
           {
            "colorbar": {
             "outlinewidth": 0,
             "ticks": ""
            },
            "colorscale": [
             [
              0,
              "#0d0887"
             ],
             [
              0.1111111111111111,
              "#46039f"
             ],
             [
              0.2222222222222222,
              "#7201a8"
             ],
             [
              0.3333333333333333,
              "#9c179e"
             ],
             [
              0.4444444444444444,
              "#bd3786"
             ],
             [
              0.5555555555555556,
              "#d8576b"
             ],
             [
              0.6666666666666666,
              "#ed7953"
             ],
             [
              0.7777777777777778,
              "#fb9f3a"
             ],
             [
              0.8888888888888888,
              "#fdca26"
             ],
             [
              1,
              "#f0f921"
             ]
            ],
            "type": "contour"
           }
          ],
          "contourcarpet": [
           {
            "colorbar": {
             "outlinewidth": 0,
             "ticks": ""
            },
            "type": "contourcarpet"
           }
          ],
          "heatmap": [
           {
            "colorbar": {
             "outlinewidth": 0,
             "ticks": ""
            },
            "colorscale": [
             [
              0,
              "#0d0887"
             ],
             [
              0.1111111111111111,
              "#46039f"
             ],
             [
              0.2222222222222222,
              "#7201a8"
             ],
             [
              0.3333333333333333,
              "#9c179e"
             ],
             [
              0.4444444444444444,
              "#bd3786"
             ],
             [
              0.5555555555555556,
              "#d8576b"
             ],
             [
              0.6666666666666666,
              "#ed7953"
             ],
             [
              0.7777777777777778,
              "#fb9f3a"
             ],
             [
              0.8888888888888888,
              "#fdca26"
             ],
             [
              1,
              "#f0f921"
             ]
            ],
            "type": "heatmap"
           }
          ],
          "heatmapgl": [
           {
            "colorbar": {
             "outlinewidth": 0,
             "ticks": ""
            },
            "colorscale": [
             [
              0,
              "#0d0887"
             ],
             [
              0.1111111111111111,
              "#46039f"
             ],
             [
              0.2222222222222222,
              "#7201a8"
             ],
             [
              0.3333333333333333,
              "#9c179e"
             ],
             [
              0.4444444444444444,
              "#bd3786"
             ],
             [
              0.5555555555555556,
              "#d8576b"
             ],
             [
              0.6666666666666666,
              "#ed7953"
             ],
             [
              0.7777777777777778,
              "#fb9f3a"
             ],
             [
              0.8888888888888888,
              "#fdca26"
             ],
             [
              1,
              "#f0f921"
             ]
            ],
            "type": "heatmapgl"
           }
          ],
          "histogram": [
           {
            "marker": {
             "pattern": {
              "fillmode": "overlay",
              "size": 10,
              "solidity": 0.2
             }
            },
            "type": "histogram"
           }
          ],
          "histogram2d": [
           {
            "colorbar": {
             "outlinewidth": 0,
             "ticks": ""
            },
            "colorscale": [
             [
              0,
              "#0d0887"
             ],
             [
              0.1111111111111111,
              "#46039f"
             ],
             [
              0.2222222222222222,
              "#7201a8"
             ],
             [
              0.3333333333333333,
              "#9c179e"
             ],
             [
              0.4444444444444444,
              "#bd3786"
             ],
             [
              0.5555555555555556,
              "#d8576b"
             ],
             [
              0.6666666666666666,
              "#ed7953"
             ],
             [
              0.7777777777777778,
              "#fb9f3a"
             ],
             [
              0.8888888888888888,
              "#fdca26"
             ],
             [
              1,
              "#f0f921"
             ]
            ],
            "type": "histogram2d"
           }
          ],
          "histogram2dcontour": [
           {
            "colorbar": {
             "outlinewidth": 0,
             "ticks": ""
            },
            "colorscale": [
             [
              0,
              "#0d0887"
             ],
             [
              0.1111111111111111,
              "#46039f"
             ],
             [
              0.2222222222222222,
              "#7201a8"
             ],
             [
              0.3333333333333333,
              "#9c179e"
             ],
             [
              0.4444444444444444,
              "#bd3786"
             ],
             [
              0.5555555555555556,
              "#d8576b"
             ],
             [
              0.6666666666666666,
              "#ed7953"
             ],
             [
              0.7777777777777778,
              "#fb9f3a"
             ],
             [
              0.8888888888888888,
              "#fdca26"
             ],
             [
              1,
              "#f0f921"
             ]
            ],
            "type": "histogram2dcontour"
           }
          ],
          "mesh3d": [
           {
            "colorbar": {
             "outlinewidth": 0,
             "ticks": ""
            },
            "type": "mesh3d"
           }
          ],
          "parcoords": [
           {
            "line": {
             "colorbar": {
              "outlinewidth": 0,
              "ticks": ""
             }
            },
            "type": "parcoords"
           }
          ],
          "pie": [
           {
            "automargin": true,
            "type": "pie"
           }
          ],
          "scatter": [
           {
            "marker": {
             "colorbar": {
              "outlinewidth": 0,
              "ticks": ""
             }
            },
            "type": "scatter"
           }
          ],
          "scatter3d": [
           {
            "line": {
             "colorbar": {
              "outlinewidth": 0,
              "ticks": ""
             }
            },
            "marker": {
             "colorbar": {
              "outlinewidth": 0,
              "ticks": ""
             }
            },
            "type": "scatter3d"
           }
          ],
          "scattercarpet": [
           {
            "marker": {
             "colorbar": {
              "outlinewidth": 0,
              "ticks": ""
             }
            },
            "type": "scattercarpet"
           }
          ],
          "scattergeo": [
           {
            "marker": {
             "colorbar": {
              "outlinewidth": 0,
              "ticks": ""
             }
            },
            "type": "scattergeo"
           }
          ],
          "scattergl": [
           {
            "marker": {
             "colorbar": {
              "outlinewidth": 0,
              "ticks": ""
             }
            },
            "type": "scattergl"
           }
          ],
          "scattermapbox": [
           {
            "marker": {
             "colorbar": {
              "outlinewidth": 0,
              "ticks": ""
             }
            },
            "type": "scattermapbox"
           }
          ],
          "scatterpolar": [
           {
            "marker": {
             "colorbar": {
              "outlinewidth": 0,
              "ticks": ""
             }
            },
            "type": "scatterpolar"
           }
          ],
          "scatterpolargl": [
           {
            "marker": {
             "colorbar": {
              "outlinewidth": 0,
              "ticks": ""
             }
            },
            "type": "scatterpolargl"
           }
          ],
          "scatterternary": [
           {
            "marker": {
             "colorbar": {
              "outlinewidth": 0,
              "ticks": ""
             }
            },
            "type": "scatterternary"
           }
          ],
          "surface": [
           {
            "colorbar": {
             "outlinewidth": 0,
             "ticks": ""
            },
            "colorscale": [
             [
              0,
              "#0d0887"
             ],
             [
              0.1111111111111111,
              "#46039f"
             ],
             [
              0.2222222222222222,
              "#7201a8"
             ],
             [
              0.3333333333333333,
              "#9c179e"
             ],
             [
              0.4444444444444444,
              "#bd3786"
             ],
             [
              0.5555555555555556,
              "#d8576b"
             ],
             [
              0.6666666666666666,
              "#ed7953"
             ],
             [
              0.7777777777777778,
              "#fb9f3a"
             ],
             [
              0.8888888888888888,
              "#fdca26"
             ],
             [
              1,
              "#f0f921"
             ]
            ],
            "type": "surface"
           }
          ],
          "table": [
           {
            "cells": {
             "fill": {
              "color": "#EBF0F8"
             },
             "line": {
              "color": "white"
             }
            },
            "header": {
             "fill": {
              "color": "#C8D4E3"
             },
             "line": {
              "color": "white"
             }
            },
            "type": "table"
           }
          ]
         },
         "layout": {
          "annotationdefaults": {
           "arrowcolor": "#2a3f5f",
           "arrowhead": 0,
           "arrowwidth": 1
          },
          "autotypenumbers": "strict",
          "coloraxis": {
           "colorbar": {
            "outlinewidth": 0,
            "ticks": ""
           }
          },
          "colorscale": {
           "diverging": [
            [
             0,
             "#8e0152"
            ],
            [
             0.1,
             "#c51b7d"
            ],
            [
             0.2,
             "#de77ae"
            ],
            [
             0.3,
             "#f1b6da"
            ],
            [
             0.4,
             "#fde0ef"
            ],
            [
             0.5,
             "#f7f7f7"
            ],
            [
             0.6,
             "#e6f5d0"
            ],
            [
             0.7,
             "#b8e186"
            ],
            [
             0.8,
             "#7fbc41"
            ],
            [
             0.9,
             "#4d9221"
            ],
            [
             1,
             "#276419"
            ]
           ],
           "sequential": [
            [
             0,
             "#0d0887"
            ],
            [
             0.1111111111111111,
             "#46039f"
            ],
            [
             0.2222222222222222,
             "#7201a8"
            ],
            [
             0.3333333333333333,
             "#9c179e"
            ],
            [
             0.4444444444444444,
             "#bd3786"
            ],
            [
             0.5555555555555556,
             "#d8576b"
            ],
            [
             0.6666666666666666,
             "#ed7953"
            ],
            [
             0.7777777777777778,
             "#fb9f3a"
            ],
            [
             0.8888888888888888,
             "#fdca26"
            ],
            [
             1,
             "#f0f921"
            ]
           ],
           "sequentialminus": [
            [
             0,
             "#0d0887"
            ],
            [
             0.1111111111111111,
             "#46039f"
            ],
            [
             0.2222222222222222,
             "#7201a8"
            ],
            [
             0.3333333333333333,
             "#9c179e"
            ],
            [
             0.4444444444444444,
             "#bd3786"
            ],
            [
             0.5555555555555556,
             "#d8576b"
            ],
            [
             0.6666666666666666,
             "#ed7953"
            ],
            [
             0.7777777777777778,
             "#fb9f3a"
            ],
            [
             0.8888888888888888,
             "#fdca26"
            ],
            [
             1,
             "#f0f921"
            ]
           ]
          },
          "colorway": [
           "#636efa",
           "#EF553B",
           "#00cc96",
           "#ab63fa",
           "#FFA15A",
           "#19d3f3",
           "#FF6692",
           "#B6E880",
           "#FF97FF",
           "#FECB52"
          ],
          "font": {
           "color": "#2a3f5f"
          },
          "geo": {
           "bgcolor": "white",
           "lakecolor": "white",
           "landcolor": "#E5ECF6",
           "showlakes": true,
           "showland": true,
           "subunitcolor": "white"
          },
          "hoverlabel": {
           "align": "left"
          },
          "hovermode": "closest",
          "mapbox": {
           "style": "light"
          },
          "paper_bgcolor": "white",
          "plot_bgcolor": "#E5ECF6",
          "polar": {
           "angularaxis": {
            "gridcolor": "white",
            "linecolor": "white",
            "ticks": ""
           },
           "bgcolor": "#E5ECF6",
           "radialaxis": {
            "gridcolor": "white",
            "linecolor": "white",
            "ticks": ""
           }
          },
          "scene": {
           "xaxis": {
            "backgroundcolor": "#E5ECF6",
            "gridcolor": "white",
            "gridwidth": 2,
            "linecolor": "white",
            "showbackground": true,
            "ticks": "",
            "zerolinecolor": "white"
           },
           "yaxis": {
            "backgroundcolor": "#E5ECF6",
            "gridcolor": "white",
            "gridwidth": 2,
            "linecolor": "white",
            "showbackground": true,
            "ticks": "",
            "zerolinecolor": "white"
           },
           "zaxis": {
            "backgroundcolor": "#E5ECF6",
            "gridcolor": "white",
            "gridwidth": 2,
            "linecolor": "white",
            "showbackground": true,
            "ticks": "",
            "zerolinecolor": "white"
           }
          },
          "shapedefaults": {
           "line": {
            "color": "#2a3f5f"
           }
          },
          "ternary": {
           "aaxis": {
            "gridcolor": "white",
            "linecolor": "white",
            "ticks": ""
           },
           "baxis": {
            "gridcolor": "white",
            "linecolor": "white",
            "ticks": ""
           },
           "bgcolor": "#E5ECF6",
           "caxis": {
            "gridcolor": "white",
            "linecolor": "white",
            "ticks": ""
           }
          },
          "title": {
           "x": 0.05
          },
          "xaxis": {
           "automargin": true,
           "gridcolor": "white",
           "linecolor": "white",
           "ticks": "",
           "title": {
            "standoff": 15
           },
           "zerolinecolor": "white",
           "zerolinewidth": 2
          },
          "yaxis": {
           "automargin": true,
           "gridcolor": "white",
           "linecolor": "white",
           "ticks": "",
           "title": {
            "standoff": 15
           },
           "zerolinecolor": "white",
           "zerolinewidth": 2
          }
         }
        },
        "xaxis": {
         "anchor": "y",
         "domain": [
          0,
          1
         ],
         "title": {
          "text": "audience_rating"
         },
         "type": "log"
        },
        "yaxis": {
         "anchor": "x",
         "domain": [
          0,
          1
         ],
         "title": {
          "text": "tomatometer_rating"
         }
        }
       }
      }
     },
     "metadata": {},
     "output_type": "display_data"
    }
   ],
   "source": [
    "production_fig2 = px.scatter(top_companies, x='audience_rating', y='tomatometer_rating',log_x=True, size='tomatometer_count',size_max=100, color='audience_count',hover_name='tomatometer_status',)\n",
    "\n",
    "production_fig2.show()"
   ]
  }
 ],
 "metadata": {
  "interpreter": {
   "hash": "0cbbf3277118dc070d2382b50742de71747f5d6166cea65797d3640ddaaf3d7c"
  },
  "kernelspec": {
   "display_name": "Python 3.8.8 64-bit ('base': conda)",
   "language": "python",
   "name": "python3"
  },
  "language_info": {
   "codemirror_mode": {
    "name": "ipython",
    "version": 3
   },
   "file_extension": ".py",
   "mimetype": "text/x-python",
   "name": "python",
   "nbconvert_exporter": "python",
   "pygments_lexer": "ipython3",
   "version": "3.8.8"
  },
  "orig_nbformat": 4
 },
 "nbformat": 4,
 "nbformat_minor": 2
}
